{
  "nbformat": 4,
  "nbformat_minor": 0,
  "metadata": {
    "colab": {
      "provenance": [],
      "gpuType": "T4",
      "authorship_tag": "ABX9TyO2llbUMta+FVhsiRk6GpKb",
      "include_colab_link": true
    },
    "kernelspec": {
      "name": "python3",
      "display_name": "Python 3"
    },
    "language_info": {
      "name": "python"
    },
    "accelerator": "GPU"
  },
  "cells": [
    {
      "cell_type": "markdown",
      "metadata": {
        "id": "view-in-github",
        "colab_type": "text"
      },
      "source": [
        "<a href=\"https://colab.research.google.com/github/machiwao/CCDEPLRL_PROJECT_COM222/blob/main/CCDEPLRL_PROJECT_COM222_Project_Implementation.ipynb\" target=\"_parent\"><img src=\"https://colab.research.google.com/assets/colab-badge.svg\" alt=\"Open In Colab\"/></a>"
      ]
    },
    {
      "cell_type": "markdown",
      "source": [
        "# ArtDecode: An Explainable Deep Learning-Based Mobile Application for Multi-Style Artistic Image Classification and Visual Feature Interpretation"
      ],
      "metadata": {
        "id": "kuvgqeBAYVhd"
      }
    },
    {
      "cell_type": "code",
      "execution_count": 57,
      "metadata": {
        "id": "0pF1xCqXWORo"
      },
      "outputs": [],
      "source": [
        "import numpy as np\n",
        "import os\n",
        "import numpy as np\n",
        "import tensorflow as tf\n",
        "from tensorflow.keras.utils import to_categorical\n",
        "from tensorflow.keras import layers, models\n",
        "from tensorflow.keras.preprocessing import image\n",
        "from sklearn.model_selection import train_test_split\n",
        "from tensorflow.keras.callbacks import EarlyStopping, ReduceLROnPlateau\n",
        "from PIL import Image  # PIL is used to load the image\n",
        "import matplotlib.pyplot as plt\n",
        "import cv2\n",
        "from tensorflow.keras.regularizers import l2"
      ]
    },
    {
      "cell_type": "markdown",
      "source": [
        "## Data Loading"
      ],
      "metadata": {
        "id": "h00ztueYaBUW"
      }
    },
    {
      "cell_type": "markdown",
      "source": [
        "Mount Google Drive Data"
      ],
      "metadata": {
        "id": "Zx7EiEVvMSJ4"
      }
    },
    {
      "cell_type": "code",
      "source": [
        "from google.colab import drive\n",
        "drive.mount('/content/drive')"
      ],
      "metadata": {
        "colab": {
          "base_uri": "https://localhost:8080/"
        },
        "id": "HGShkGE0aAq1",
        "outputId": "5bdc85b1-6a11-45d5-9abb-be2882bdd010"
      },
      "execution_count": 2,
      "outputs": [
        {
          "output_type": "stream",
          "name": "stdout",
          "text": [
            "Drive already mounted at /content/drive; to attempt to forcibly remount, call drive.mount(\"/content/drive\", force_remount=True).\n"
          ]
        }
      ]
    },
    {
      "cell_type": "markdown",
      "source": [
        "Load images and respective labels"
      ],
      "metadata": {
        "id": "brk5TtLiMXsK"
      }
    },
    {
      "cell_type": "code",
      "source": [
        "base_dir = '/content/drive/My Drive/Primary Data' # Adjust this path if \"Primary Data\" is in a different location"
      ],
      "metadata": {
        "id": "X3-3LGWeaZ9_"
      },
      "execution_count": 3,
      "outputs": []
    },
    {
      "cell_type": "code",
      "source": [
        "styles = os.listdir(base_dir)\n",
        "print(styles) # Print the list of styles to verify"
      ],
      "metadata": {
        "id": "5hSeqFiPcUnf",
        "colab": {
          "base_uri": "https://localhost:8080/"
        },
        "outputId": "36a0e906-77c3-4a50-f2bf-a75ce598cdf6"
      },
      "execution_count": 4,
      "outputs": [
        {
          "output_type": "stream",
          "name": "stdout",
          "text": [
            "['Primitivism', 'Art_Nouveau', 'Realism', 'Neoclassicism', 'Baroque', 'Japanese_Art', 'Academic_Art', 'Renaissance', 'Rococo', 'Expressionism', 'Romanticism', 'Symbolism', 'Western Medieval']\n"
          ]
        }
      ]
    },
    {
      "cell_type": "code",
      "source": [
        "images = []\n",
        "labels = []\n",
        "for style in styles:\n",
        "    style_dir = os.path.join(base_dir, style)\n",
        "    for image_name in os.listdir(style_dir):\n",
        "        image_path = os.path.join(style_dir, image_name)\n",
        "        try:\n",
        "            img = Image.open(image_path).convert('RGB') # Load image and convert to RGB\n",
        "            img = img.resize((128, 128)) # Resize images to a consistent size\n",
        "            img_array = np.array(img)\n",
        "            images.append(img_array)\n",
        "            labels.append(style) # Use the style name as the label\n",
        "        except Exception as e:\n",
        "            print(f\"Error loading image {image_path}: {e}\")\n",
        "\n",
        "images = np.array(images)"
      ],
      "metadata": {
        "id": "f327oDK7ceRH",
        "colab": {
          "base_uri": "https://localhost:8080/"
        },
        "outputId": "d07a4bb4-17e4-49a3-9912-35c7512e995a"
      },
      "execution_count": 6,
      "outputs": [
        {
          "output_type": "stream",
          "name": "stderr",
          "text": [
            "/usr/local/lib/python3.11/dist-packages/PIL/Image.py:1043: UserWarning: Palette images with Transparency expressed in bytes should be converted to RGBA images\n",
            "  warnings.warn(\n",
            "/usr/local/lib/python3.11/dist-packages/PIL/Image.py:3442: DecompressionBombWarning: Image size (96714256 pixels) exceeds limit of 89478485 pixels, could be decompression bomb DOS attack.\n",
            "  warnings.warn(\n"
          ]
        }
      ]
    },
    {
      "cell_type": "markdown",
      "source": [
        "## Data Split"
      ],
      "metadata": {
        "id": "2J3VVLRYc5s4"
      }
    },
    {
      "cell_type": "code",
      "source": [
        "# Train-Validation-Test Split is 70-10-20\n",
        "X_train, X_temp, y_train, y_temp = train_test_split(images, labels, test_size=0.3, random_state=42)\n",
        "X_val, X_test, y_val, y_test = train_test_split(X_temp, y_temp, test_size=0.66, random_state=42)"
      ],
      "metadata": {
        "id": "XENrLiZ0c65K"
      },
      "execution_count": 33,
      "outputs": []
    },
    {
      "cell_type": "code",
      "source": [
        "# Convert y_train to a NumPy array to use NumPy functions\n",
        "y_train_np = np.array(y_train)\n",
        "\n",
        "# Get unique values and their counts\n",
        "unique_elements, counts = np.unique(y_train_np, return_counts=True)\n",
        "\n",
        "# Print the counts\n",
        "print(\"Counts of each style in y_train:\")\n",
        "for element, count in zip(unique_elements, counts):\n",
        "    print(f\"{element}: {count}\")"
      ],
      "metadata": {
        "colab": {
          "base_uri": "https://localhost:8080/"
        },
        "id": "R6k4CdYJh25Y",
        "outputId": "fbef1ac4-0d06-46ad-f90c-86c999c8158d"
      },
      "execution_count": 34,
      "outputs": [
        {
          "output_type": "stream",
          "name": "stdout",
          "text": [
            "Counts of each style in y_train:\n",
            "Academic_Art: 704\n",
            "Art_Nouveau: 697\n",
            "Baroque: 697\n",
            "Expressionism: 701\n",
            "Japanese_Art: 688\n",
            "Neoclassicism: 687\n",
            "Primitivism: 707\n",
            "Realism: 688\n",
            "Renaissance: 703\n",
            "Rococo: 682\n",
            "Romanticism: 697\n",
            "Symbolism: 731\n",
            "Western Medieval: 718\n"
          ]
        }
      ]
    },
    {
      "cell_type": "code",
      "source": [
        "# Convert y_val to a NumPy array to use NumPy functions\n",
        "y_val_np = np.array(y_val)\n",
        "\n",
        "# Get unique values and their counts\n",
        "unique_elements, counts = np.unique(y_val_np, return_counts=True)\n",
        "\n",
        "# Print the counts\n",
        "print(\"Counts of each style in y_val:\")\n",
        "for element, count in zip(unique_elements, counts):\n",
        "    print(f\"{element}: {count}\")"
      ],
      "metadata": {
        "colab": {
          "base_uri": "https://localhost:8080/"
        },
        "id": "8T-yMlFViDQi",
        "outputId": "c579f820-c8de-45ed-cd0e-bf14bb12870f"
      },
      "execution_count": 35,
      "outputs": [
        {
          "output_type": "stream",
          "name": "stdout",
          "text": [
            "Counts of each style in y_val:\n",
            "Academic_Art: 113\n",
            "Art_Nouveau: 111\n",
            "Baroque: 98\n",
            "Expressionism: 102\n",
            "Japanese_Art: 88\n",
            "Neoclassicism: 119\n",
            "Primitivism: 93\n",
            "Realism: 105\n",
            "Renaissance: 102\n",
            "Rococo: 110\n",
            "Romanticism: 115\n",
            "Symbolism: 96\n",
            "Western Medieval: 74\n"
          ]
        }
      ]
    },
    {
      "cell_type": "code",
      "source": [
        "label_to_index = {style: i for i, style in enumerate(styles)}\n",
        "y_train_encoded = to_categorical([label_to_index[label] for label in y_train], num_classes=len(styles))\n",
        "y_val_encoded = to_categorical([label_to_index[label] for label in y_val], num_classes=len(styles))\n",
        "y_test_encoded = to_categorical([label_to_index[label] for label in y_test], num_classes=len(styles))\n",
        "\n",
        "# Normalize the image data after splitting\n",
        "X_train = X_train.astype('float32') / 255.0\n",
        "X_val = X_val.astype('float32') / 255.0\n",
        "X_test = X_test.astype('float32') / 255.0"
      ],
      "metadata": {
        "id": "u5pyyURYi06z"
      },
      "execution_count": 36,
      "outputs": []
    },
    {
      "cell_type": "markdown",
      "source": [
        "## Model Training"
      ],
      "metadata": {
        "id": "418pOQ_Wcwp3"
      }
    },
    {
      "cell_type": "code",
      "source": [
        "model = tf.keras.Sequential([\n",
        "    # Block 1\n",
        "    tf.keras.layers.Conv2D(64, 3, padding='same', kernel_regularizer=l2(1e-4)),\n",
        "    tf.keras.layers.BatchNormalization(),\n",
        "    tf.keras.layers.Activation('relu'),\n",
        "    tf.keras.layers.Conv2D(64, 3, padding='same', kernel_regularizer=l2(1e-4)),\n",
        "    tf.keras.layers.BatchNormalization(),\n",
        "    tf.keras.layers.Activation('relu'),\n",
        "    tf.keras.layers.MaxPooling2D(2),\n",
        "    tf.keras.layers.Dropout(0.1),\n",
        "\n",
        "    # Block 2\n",
        "    tf.keras.layers.Conv2D(128, 3, padding='same', kernel_regularizer=l2(1e-4)),\n",
        "    tf.keras.layers.BatchNormalization(),\n",
        "    tf.keras.layers.Activation('relu'),\n",
        "    tf.keras.layers.Conv2D(128, 3, padding='same', kernel_regularizer=l2(1e-4)),\n",
        "    tf.keras.layers.BatchNormalization(),\n",
        "    tf.keras.layers.Activation('relu'),\n",
        "    tf.keras.layers.MaxPooling2D(2),\n",
        "    tf.keras.layers.Dropout(0.2),\n",
        "\n",
        "    # Block 3\n",
        "    tf.keras.layers.Conv2D(256, 3, padding='same', kernel_regularizer=l2(1e-4)),\n",
        "    tf.keras.layers.BatchNormalization(),\n",
        "    tf.keras.layers.Activation('relu'),\n",
        "    tf.keras.layers.GlobalAveragePooling2D(),\n",
        "\n",
        "    # Dense layers\n",
        "    tf.keras.layers.Dense(512, activation='relu', kernel_regularizer=l2(1e-4)),\n",
        "    tf.keras.layers.BatchNormalization(),\n",
        "    tf.keras.layers.Dropout(0.3),\n",
        "    tf.keras.layers.Dense(len(styles), activation='softmax')\n",
        "])"
      ],
      "metadata": {
        "id": "NKJTwPd_cwew"
      },
      "execution_count": 64,
      "outputs": []
    },
    {
      "cell_type": "code",
      "source": [
        "model.summary()"
      ],
      "metadata": {
        "id": "2g8-Gy5aeCC4",
        "colab": {
          "base_uri": "https://localhost:8080/",
          "height": 1000
        },
        "outputId": "a00177a2-2a84-4894-d7cf-ed6637528fa1"
      },
      "execution_count": 65,
      "outputs": [
        {
          "output_type": "display_data",
          "data": {
            "text/plain": [
              "\u001b[1mModel: \"sequential_3\"\u001b[0m\n"
            ],
            "text/html": [
              "<pre style=\"white-space:pre;overflow-x:auto;line-height:normal;font-family:Menlo,'DejaVu Sans Mono',consolas,'Courier New',monospace\"><span style=\"font-weight: bold\">Model: \"sequential_3\"</span>\n",
              "</pre>\n"
            ]
          },
          "metadata": {}
        },
        {
          "output_type": "display_data",
          "data": {
            "text/plain": [
              "┏━━━━━━━━━━━━━━━━━━━━━━━━━━━━━━━━━┳━━━━━━━━━━━━━━━━━━━━━━━━┳━━━━━━━━━━━━━━━┓\n",
              "┃\u001b[1m \u001b[0m\u001b[1mLayer (type)                   \u001b[0m\u001b[1m \u001b[0m┃\u001b[1m \u001b[0m\u001b[1mOutput Shape          \u001b[0m\u001b[1m \u001b[0m┃\u001b[1m \u001b[0m\u001b[1m      Param #\u001b[0m\u001b[1m \u001b[0m┃\n",
              "┡━━━━━━━━━━━━━━━━━━━━━━━━━━━━━━━━━╇━━━━━━━━━━━━━━━━━━━━━━━━╇━━━━━━━━━━━━━━━┩\n",
              "│ conv2d_11 (\u001b[38;5;33mConv2D\u001b[0m)              │ ?                      │   \u001b[38;5;34m0\u001b[0m (unbuilt) │\n",
              "├─────────────────────────────────┼────────────────────────┼───────────────┤\n",
              "│ batch_normalization_6           │ ?                      │   \u001b[38;5;34m0\u001b[0m (unbuilt) │\n",
              "│ (\u001b[38;5;33mBatchNormalization\u001b[0m)            │                        │               │\n",
              "├─────────────────────────────────┼────────────────────────┼───────────────┤\n",
              "│ activation_5 (\u001b[38;5;33mActivation\u001b[0m)       │ ?                      │             \u001b[38;5;34m0\u001b[0m │\n",
              "├─────────────────────────────────┼────────────────────────┼───────────────┤\n",
              "│ conv2d_12 (\u001b[38;5;33mConv2D\u001b[0m)              │ ?                      │   \u001b[38;5;34m0\u001b[0m (unbuilt) │\n",
              "├─────────────────────────────────┼────────────────────────┼───────────────┤\n",
              "│ batch_normalization_7           │ ?                      │   \u001b[38;5;34m0\u001b[0m (unbuilt) │\n",
              "│ (\u001b[38;5;33mBatchNormalization\u001b[0m)            │                        │               │\n",
              "├─────────────────────────────────┼────────────────────────┼───────────────┤\n",
              "│ activation_6 (\u001b[38;5;33mActivation\u001b[0m)       │ ?                      │             \u001b[38;5;34m0\u001b[0m │\n",
              "├─────────────────────────────────┼────────────────────────┼───────────────┤\n",
              "│ max_pooling2d_8 (\u001b[38;5;33mMaxPooling2D\u001b[0m)  │ ?                      │             \u001b[38;5;34m0\u001b[0m │\n",
              "├─────────────────────────────────┼────────────────────────┼───────────────┤\n",
              "│ dropout_5 (\u001b[38;5;33mDropout\u001b[0m)             │ ?                      │             \u001b[38;5;34m0\u001b[0m │\n",
              "├─────────────────────────────────┼────────────────────────┼───────────────┤\n",
              "│ conv2d_13 (\u001b[38;5;33mConv2D\u001b[0m)              │ ?                      │   \u001b[38;5;34m0\u001b[0m (unbuilt) │\n",
              "├─────────────────────────────────┼────────────────────────┼───────────────┤\n",
              "│ batch_normalization_8           │ ?                      │   \u001b[38;5;34m0\u001b[0m (unbuilt) │\n",
              "│ (\u001b[38;5;33mBatchNormalization\u001b[0m)            │                        │               │\n",
              "├─────────────────────────────────┼────────────────────────┼───────────────┤\n",
              "│ activation_7 (\u001b[38;5;33mActivation\u001b[0m)       │ ?                      │             \u001b[38;5;34m0\u001b[0m │\n",
              "├─────────────────────────────────┼────────────────────────┼───────────────┤\n",
              "│ conv2d_14 (\u001b[38;5;33mConv2D\u001b[0m)              │ ?                      │   \u001b[38;5;34m0\u001b[0m (unbuilt) │\n",
              "├─────────────────────────────────┼────────────────────────┼───────────────┤\n",
              "│ batch_normalization_9           │ ?                      │   \u001b[38;5;34m0\u001b[0m (unbuilt) │\n",
              "│ (\u001b[38;5;33mBatchNormalization\u001b[0m)            │                        │               │\n",
              "├─────────────────────────────────┼────────────────────────┼───────────────┤\n",
              "│ activation_8 (\u001b[38;5;33mActivation\u001b[0m)       │ ?                      │             \u001b[38;5;34m0\u001b[0m │\n",
              "├─────────────────────────────────┼────────────────────────┼───────────────┤\n",
              "│ max_pooling2d_9 (\u001b[38;5;33mMaxPooling2D\u001b[0m)  │ ?                      │             \u001b[38;5;34m0\u001b[0m │\n",
              "├─────────────────────────────────┼────────────────────────┼───────────────┤\n",
              "│ dropout_6 (\u001b[38;5;33mDropout\u001b[0m)             │ ?                      │             \u001b[38;5;34m0\u001b[0m │\n",
              "├─────────────────────────────────┼────────────────────────┼───────────────┤\n",
              "│ conv2d_15 (\u001b[38;5;33mConv2D\u001b[0m)              │ ?                      │   \u001b[38;5;34m0\u001b[0m (unbuilt) │\n",
              "├─────────────────────────────────┼────────────────────────┼───────────────┤\n",
              "│ batch_normalization_10          │ ?                      │   \u001b[38;5;34m0\u001b[0m (unbuilt) │\n",
              "│ (\u001b[38;5;33mBatchNormalization\u001b[0m)            │                        │               │\n",
              "├─────────────────────────────────┼────────────────────────┼───────────────┤\n",
              "│ activation_9 (\u001b[38;5;33mActivation\u001b[0m)       │ ?                      │             \u001b[38;5;34m0\u001b[0m │\n",
              "├─────────────────────────────────┼────────────────────────┼───────────────┤\n",
              "│ global_average_pooling2d_1      │ ?                      │             \u001b[38;5;34m0\u001b[0m │\n",
              "│ (\u001b[38;5;33mGlobalAveragePooling2D\u001b[0m)        │                        │               │\n",
              "├─────────────────────────────────┼────────────────────────┼───────────────┤\n",
              "│ dense_6 (\u001b[38;5;33mDense\u001b[0m)                 │ ?                      │   \u001b[38;5;34m0\u001b[0m (unbuilt) │\n",
              "├─────────────────────────────────┼────────────────────────┼───────────────┤\n",
              "│ batch_normalization_11          │ ?                      │   \u001b[38;5;34m0\u001b[0m (unbuilt) │\n",
              "│ (\u001b[38;5;33mBatchNormalization\u001b[0m)            │                        │               │\n",
              "├─────────────────────────────────┼────────────────────────┼───────────────┤\n",
              "│ dropout_7 (\u001b[38;5;33mDropout\u001b[0m)             │ ?                      │             \u001b[38;5;34m0\u001b[0m │\n",
              "├─────────────────────────────────┼────────────────────────┼───────────────┤\n",
              "│ dense_7 (\u001b[38;5;33mDense\u001b[0m)                 │ ?                      │   \u001b[38;5;34m0\u001b[0m (unbuilt) │\n",
              "└─────────────────────────────────┴────────────────────────┴───────────────┘\n"
            ],
            "text/html": [
              "<pre style=\"white-space:pre;overflow-x:auto;line-height:normal;font-family:Menlo,'DejaVu Sans Mono',consolas,'Courier New',monospace\">┏━━━━━━━━━━━━━━━━━━━━━━━━━━━━━━━━━┳━━━━━━━━━━━━━━━━━━━━━━━━┳━━━━━━━━━━━━━━━┓\n",
              "┃<span style=\"font-weight: bold\"> Layer (type)                    </span>┃<span style=\"font-weight: bold\"> Output Shape           </span>┃<span style=\"font-weight: bold\">       Param # </span>┃\n",
              "┡━━━━━━━━━━━━━━━━━━━━━━━━━━━━━━━━━╇━━━━━━━━━━━━━━━━━━━━━━━━╇━━━━━━━━━━━━━━━┩\n",
              "│ conv2d_11 (<span style=\"color: #0087ff; text-decoration-color: #0087ff\">Conv2D</span>)              │ ?                      │   <span style=\"color: #00af00; text-decoration-color: #00af00\">0</span> (unbuilt) │\n",
              "├─────────────────────────────────┼────────────────────────┼───────────────┤\n",
              "│ batch_normalization_6           │ ?                      │   <span style=\"color: #00af00; text-decoration-color: #00af00\">0</span> (unbuilt) │\n",
              "│ (<span style=\"color: #0087ff; text-decoration-color: #0087ff\">BatchNormalization</span>)            │                        │               │\n",
              "├─────────────────────────────────┼────────────────────────┼───────────────┤\n",
              "│ activation_5 (<span style=\"color: #0087ff; text-decoration-color: #0087ff\">Activation</span>)       │ ?                      │             <span style=\"color: #00af00; text-decoration-color: #00af00\">0</span> │\n",
              "├─────────────────────────────────┼────────────────────────┼───────────────┤\n",
              "│ conv2d_12 (<span style=\"color: #0087ff; text-decoration-color: #0087ff\">Conv2D</span>)              │ ?                      │   <span style=\"color: #00af00; text-decoration-color: #00af00\">0</span> (unbuilt) │\n",
              "├─────────────────────────────────┼────────────────────────┼───────────────┤\n",
              "│ batch_normalization_7           │ ?                      │   <span style=\"color: #00af00; text-decoration-color: #00af00\">0</span> (unbuilt) │\n",
              "│ (<span style=\"color: #0087ff; text-decoration-color: #0087ff\">BatchNormalization</span>)            │                        │               │\n",
              "├─────────────────────────────────┼────────────────────────┼───────────────┤\n",
              "│ activation_6 (<span style=\"color: #0087ff; text-decoration-color: #0087ff\">Activation</span>)       │ ?                      │             <span style=\"color: #00af00; text-decoration-color: #00af00\">0</span> │\n",
              "├─────────────────────────────────┼────────────────────────┼───────────────┤\n",
              "│ max_pooling2d_8 (<span style=\"color: #0087ff; text-decoration-color: #0087ff\">MaxPooling2D</span>)  │ ?                      │             <span style=\"color: #00af00; text-decoration-color: #00af00\">0</span> │\n",
              "├─────────────────────────────────┼────────────────────────┼───────────────┤\n",
              "│ dropout_5 (<span style=\"color: #0087ff; text-decoration-color: #0087ff\">Dropout</span>)             │ ?                      │             <span style=\"color: #00af00; text-decoration-color: #00af00\">0</span> │\n",
              "├─────────────────────────────────┼────────────────────────┼───────────────┤\n",
              "│ conv2d_13 (<span style=\"color: #0087ff; text-decoration-color: #0087ff\">Conv2D</span>)              │ ?                      │   <span style=\"color: #00af00; text-decoration-color: #00af00\">0</span> (unbuilt) │\n",
              "├─────────────────────────────────┼────────────────────────┼───────────────┤\n",
              "│ batch_normalization_8           │ ?                      │   <span style=\"color: #00af00; text-decoration-color: #00af00\">0</span> (unbuilt) │\n",
              "│ (<span style=\"color: #0087ff; text-decoration-color: #0087ff\">BatchNormalization</span>)            │                        │               │\n",
              "├─────────────────────────────────┼────────────────────────┼───────────────┤\n",
              "│ activation_7 (<span style=\"color: #0087ff; text-decoration-color: #0087ff\">Activation</span>)       │ ?                      │             <span style=\"color: #00af00; text-decoration-color: #00af00\">0</span> │\n",
              "├─────────────────────────────────┼────────────────────────┼───────────────┤\n",
              "│ conv2d_14 (<span style=\"color: #0087ff; text-decoration-color: #0087ff\">Conv2D</span>)              │ ?                      │   <span style=\"color: #00af00; text-decoration-color: #00af00\">0</span> (unbuilt) │\n",
              "├─────────────────────────────────┼────────────────────────┼───────────────┤\n",
              "│ batch_normalization_9           │ ?                      │   <span style=\"color: #00af00; text-decoration-color: #00af00\">0</span> (unbuilt) │\n",
              "│ (<span style=\"color: #0087ff; text-decoration-color: #0087ff\">BatchNormalization</span>)            │                        │               │\n",
              "├─────────────────────────────────┼────────────────────────┼───────────────┤\n",
              "│ activation_8 (<span style=\"color: #0087ff; text-decoration-color: #0087ff\">Activation</span>)       │ ?                      │             <span style=\"color: #00af00; text-decoration-color: #00af00\">0</span> │\n",
              "├─────────────────────────────────┼────────────────────────┼───────────────┤\n",
              "│ max_pooling2d_9 (<span style=\"color: #0087ff; text-decoration-color: #0087ff\">MaxPooling2D</span>)  │ ?                      │             <span style=\"color: #00af00; text-decoration-color: #00af00\">0</span> │\n",
              "├─────────────────────────────────┼────────────────────────┼───────────────┤\n",
              "│ dropout_6 (<span style=\"color: #0087ff; text-decoration-color: #0087ff\">Dropout</span>)             │ ?                      │             <span style=\"color: #00af00; text-decoration-color: #00af00\">0</span> │\n",
              "├─────────────────────────────────┼────────────────────────┼───────────────┤\n",
              "│ conv2d_15 (<span style=\"color: #0087ff; text-decoration-color: #0087ff\">Conv2D</span>)              │ ?                      │   <span style=\"color: #00af00; text-decoration-color: #00af00\">0</span> (unbuilt) │\n",
              "├─────────────────────────────────┼────────────────────────┼───────────────┤\n",
              "│ batch_normalization_10          │ ?                      │   <span style=\"color: #00af00; text-decoration-color: #00af00\">0</span> (unbuilt) │\n",
              "│ (<span style=\"color: #0087ff; text-decoration-color: #0087ff\">BatchNormalization</span>)            │                        │               │\n",
              "├─────────────────────────────────┼────────────────────────┼───────────────┤\n",
              "│ activation_9 (<span style=\"color: #0087ff; text-decoration-color: #0087ff\">Activation</span>)       │ ?                      │             <span style=\"color: #00af00; text-decoration-color: #00af00\">0</span> │\n",
              "├─────────────────────────────────┼────────────────────────┼───────────────┤\n",
              "│ global_average_pooling2d_1      │ ?                      │             <span style=\"color: #00af00; text-decoration-color: #00af00\">0</span> │\n",
              "│ (<span style=\"color: #0087ff; text-decoration-color: #0087ff\">GlobalAveragePooling2D</span>)        │                        │               │\n",
              "├─────────────────────────────────┼────────────────────────┼───────────────┤\n",
              "│ dense_6 (<span style=\"color: #0087ff; text-decoration-color: #0087ff\">Dense</span>)                 │ ?                      │   <span style=\"color: #00af00; text-decoration-color: #00af00\">0</span> (unbuilt) │\n",
              "├─────────────────────────────────┼────────────────────────┼───────────────┤\n",
              "│ batch_normalization_11          │ ?                      │   <span style=\"color: #00af00; text-decoration-color: #00af00\">0</span> (unbuilt) │\n",
              "│ (<span style=\"color: #0087ff; text-decoration-color: #0087ff\">BatchNormalization</span>)            │                        │               │\n",
              "├─────────────────────────────────┼────────────────────────┼───────────────┤\n",
              "│ dropout_7 (<span style=\"color: #0087ff; text-decoration-color: #0087ff\">Dropout</span>)             │ ?                      │             <span style=\"color: #00af00; text-decoration-color: #00af00\">0</span> │\n",
              "├─────────────────────────────────┼────────────────────────┼───────────────┤\n",
              "│ dense_7 (<span style=\"color: #0087ff; text-decoration-color: #0087ff\">Dense</span>)                 │ ?                      │   <span style=\"color: #00af00; text-decoration-color: #00af00\">0</span> (unbuilt) │\n",
              "└─────────────────────────────────┴────────────────────────┴───────────────┘\n",
              "</pre>\n"
            ]
          },
          "metadata": {}
        },
        {
          "output_type": "display_data",
          "data": {
            "text/plain": [
              "\u001b[1m Total params: \u001b[0m\u001b[38;5;34m0\u001b[0m (0.00 B)\n"
            ],
            "text/html": [
              "<pre style=\"white-space:pre;overflow-x:auto;line-height:normal;font-family:Menlo,'DejaVu Sans Mono',consolas,'Courier New',monospace\"><span style=\"font-weight: bold\"> Total params: </span><span style=\"color: #00af00; text-decoration-color: #00af00\">0</span> (0.00 B)\n",
              "</pre>\n"
            ]
          },
          "metadata": {}
        },
        {
          "output_type": "display_data",
          "data": {
            "text/plain": [
              "\u001b[1m Trainable params: \u001b[0m\u001b[38;5;34m0\u001b[0m (0.00 B)\n"
            ],
            "text/html": [
              "<pre style=\"white-space:pre;overflow-x:auto;line-height:normal;font-family:Menlo,'DejaVu Sans Mono',consolas,'Courier New',monospace\"><span style=\"font-weight: bold\"> Trainable params: </span><span style=\"color: #00af00; text-decoration-color: #00af00\">0</span> (0.00 B)\n",
              "</pre>\n"
            ]
          },
          "metadata": {}
        },
        {
          "output_type": "display_data",
          "data": {
            "text/plain": [
              "\u001b[1m Non-trainable params: \u001b[0m\u001b[38;5;34m0\u001b[0m (0.00 B)\n"
            ],
            "text/html": [
              "<pre style=\"white-space:pre;overflow-x:auto;line-height:normal;font-family:Menlo,'DejaVu Sans Mono',consolas,'Courier New',monospace\"><span style=\"font-weight: bold\"> Non-trainable params: </span><span style=\"color: #00af00; text-decoration-color: #00af00\">0</span> (0.00 B)\n",
              "</pre>\n"
            ]
          },
          "metadata": {}
        }
      ]
    },
    {
      "cell_type": "code",
      "source": [
        "# Initialize starting learning rate\n",
        "optimizer = tf.keras.optimizers.AdamW(learning_rate=1e-3, weight_decay=1e-4)\n",
        "# Compile the model\n",
        "model.compile(\n",
        "    optimizer=optimizer,\n",
        "    loss=tf.keras.losses.CategoricalCrossentropy(from_logits=False, label_smoothing = 0.1),\n",
        "    metrics=['accuracy']\n",
        ")"
      ],
      "metadata": {
        "id": "g5xGO8rbd__o"
      },
      "execution_count": 66,
      "outputs": []
    },
    {
      "cell_type": "code",
      "source": [
        "early_stop = EarlyStopping(\n",
        "    monitor='val_loss',\n",
        "    patience = 20,\n",
        "    restore_best_weights=True,\n",
        "    verbose=1,\n",
        "    min_delta=0.0001,\n",
        ")"
      ],
      "metadata": {
        "id": "PX9pIHEVeCRA"
      },
      "execution_count": 67,
      "outputs": []
    },
    {
      "cell_type": "code",
      "source": [
        "reduce_lr = ReduceLROnPlateau(\n",
        "    monitor='val_loss',\n",
        "    factor=0.5,        # Reduce LR by half\n",
        "    patience=10,        # Wait 3 epochs before reducing\n",
        "    min_lr=1e-7,       # Don't go below this\n",
        "    min_delta=0.0001,\n",
        "    verbose=1\n",
        ")"
      ],
      "metadata": {
        "id": "BNvNHShNeIbw"
      },
      "execution_count": 68,
      "outputs": []
    },
    {
      "cell_type": "code",
      "source": [
        "# Fit the model\n",
        "history = model.fit(\n",
        "    X_train, y_train_encoded, # Use the one-hot encoded training labels\n",
        "    epochs=100,\n",
        "    validation_data=(X_val, y_val_encoded), # Use the one-hot encoded validation labels\n",
        "    callbacks=[early_stop, reduce_lr],\n",
        "    batch_size=32\n",
        ")"
      ],
      "metadata": {
        "id": "FBqtAUT9eSfE",
        "colab": {
          "base_uri": "https://localhost:8080/"
        },
        "outputId": "02ce5354-8ff9-4678-cdbd-706e4e9ba833"
      },
      "execution_count": 69,
      "outputs": [
        {
          "output_type": "stream",
          "name": "stdout",
          "text": [
            "Epoch 1/100\n",
            "\u001b[1m285/285\u001b[0m \u001b[32m━━━━━━━━━━━━━━━━━━━━\u001b[0m\u001b[37m\u001b[0m \u001b[1m51s\u001b[0m 129ms/step - accuracy: 0.1843 - loss: 2.7962 - val_accuracy: 0.0897 - val_loss: 2.7488 - learning_rate: 0.0010\n",
            "Epoch 2/100\n",
            "\u001b[1m285/285\u001b[0m \u001b[32m━━━━━━━━━━━━━━━━━━━━\u001b[0m\u001b[37m\u001b[0m \u001b[1m64s\u001b[0m 91ms/step - accuracy: 0.2486 - loss: 2.4582 - val_accuracy: 0.1327 - val_loss: 2.9468 - learning_rate: 0.0010\n",
            "Epoch 3/100\n",
            "\u001b[1m285/285\u001b[0m \u001b[32m━━━━━━━━━━━━━━━━━━━━\u001b[0m\u001b[37m\u001b[0m \u001b[1m41s\u001b[0m 89ms/step - accuracy: 0.2879 - loss: 2.3435 - val_accuracy: 0.1531 - val_loss: 3.8369 - learning_rate: 0.0010\n",
            "Epoch 4/100\n",
            "\u001b[1m285/285\u001b[0m \u001b[32m━━━━━━━━━━━━━━━━━━━━\u001b[0m\u001b[37m\u001b[0m \u001b[1m41s\u001b[0m 90ms/step - accuracy: 0.3314 - loss: 2.2476 - val_accuracy: 0.2097 - val_loss: 2.8777 - learning_rate: 0.0010\n",
            "Epoch 5/100\n",
            "\u001b[1m285/285\u001b[0m \u001b[32m━━━━━━━━━━━━━━━━━━━━\u001b[0m\u001b[37m\u001b[0m \u001b[1m41s\u001b[0m 91ms/step - accuracy: 0.3530 - loss: 2.1718 - val_accuracy: 0.2632 - val_loss: 2.4433 - learning_rate: 0.0010\n",
            "Epoch 6/100\n",
            "\u001b[1m285/285\u001b[0m \u001b[32m━━━━━━━━━━━━━━━━━━━━\u001b[0m\u001b[37m\u001b[0m \u001b[1m41s\u001b[0m 91ms/step - accuracy: 0.3838 - loss: 2.1019 - val_accuracy: 0.2873 - val_loss: 2.4903 - learning_rate: 0.0010\n",
            "Epoch 7/100\n",
            "\u001b[1m285/285\u001b[0m \u001b[32m━━━━━━━━━━━━━━━━━━━━\u001b[0m\u001b[37m\u001b[0m \u001b[1m41s\u001b[0m 90ms/step - accuracy: 0.4069 - loss: 2.0570 - val_accuracy: 0.3100 - val_loss: 2.4307 - learning_rate: 0.0010\n",
            "Epoch 8/100\n",
            "\u001b[1m285/285\u001b[0m \u001b[32m━━━━━━━━━━━━━━━━━━━━\u001b[0m\u001b[37m\u001b[0m \u001b[1m41s\u001b[0m 91ms/step - accuracy: 0.4450 - loss: 1.9791 - val_accuracy: 0.3243 - val_loss: 2.3092 - learning_rate: 0.0010\n",
            "Epoch 9/100\n",
            "\u001b[1m285/285\u001b[0m \u001b[32m━━━━━━━━━━━━━━━━━━━━\u001b[0m\u001b[37m\u001b[0m \u001b[1m41s\u001b[0m 91ms/step - accuracy: 0.4614 - loss: 1.9574 - val_accuracy: 0.2481 - val_loss: 2.7761 - learning_rate: 0.0010\n",
            "Epoch 10/100\n",
            "\u001b[1m285/285\u001b[0m \u001b[32m━━━━━━━━━━━━━━━━━━━━\u001b[0m\u001b[37m\u001b[0m \u001b[1m41s\u001b[0m 90ms/step - accuracy: 0.4661 - loss: 1.9436 - val_accuracy: 0.2406 - val_loss: 2.5914 - learning_rate: 0.0010\n",
            "Epoch 11/100\n",
            "\u001b[1m285/285\u001b[0m \u001b[32m━━━━━━━━━━━━━━━━━━━━\u001b[0m\u001b[37m\u001b[0m \u001b[1m41s\u001b[0m 90ms/step - accuracy: 0.4825 - loss: 1.9082 - val_accuracy: 0.3446 - val_loss: 2.2668 - learning_rate: 0.0010\n",
            "Epoch 12/100\n",
            "\u001b[1m285/285\u001b[0m \u001b[32m━━━━━━━━━━━━━━━━━━━━\u001b[0m\u001b[37m\u001b[0m \u001b[1m41s\u001b[0m 91ms/step - accuracy: 0.4861 - loss: 1.8951 - val_accuracy: 0.2564 - val_loss: 2.6362 - learning_rate: 0.0010\n",
            "Epoch 13/100\n",
            "\u001b[1m285/285\u001b[0m \u001b[32m━━━━━━━━━━━━━━━━━━━━\u001b[0m\u001b[37m\u001b[0m \u001b[1m41s\u001b[0m 90ms/step - accuracy: 0.5027 - loss: 1.8743 - val_accuracy: 0.3130 - val_loss: 2.3691 - learning_rate: 0.0010\n",
            "Epoch 14/100\n",
            "\u001b[1m285/285\u001b[0m \u001b[32m━━━━━━━━━━━━━━━━━━━━\u001b[0m\u001b[37m\u001b[0m \u001b[1m41s\u001b[0m 91ms/step - accuracy: 0.4996 - loss: 1.8540 - val_accuracy: 0.1840 - val_loss: 3.1439 - learning_rate: 0.0010\n",
            "Epoch 15/100\n",
            "\u001b[1m285/285\u001b[0m \u001b[32m━━━━━━━━━━━━━━━━━━━━\u001b[0m\u001b[37m\u001b[0m \u001b[1m41s\u001b[0m 91ms/step - accuracy: 0.5083 - loss: 1.8491 - val_accuracy: 0.3002 - val_loss: 2.5073 - learning_rate: 0.0010\n",
            "Epoch 16/100\n",
            "\u001b[1m285/285\u001b[0m \u001b[32m━━━━━━━━━━━━━━━━━━━━\u001b[0m\u001b[37m\u001b[0m \u001b[1m41s\u001b[0m 90ms/step - accuracy: 0.5259 - loss: 1.8155 - val_accuracy: 0.4630 - val_loss: 1.9778 - learning_rate: 0.0010\n",
            "Epoch 17/100\n",
            "\u001b[1m285/285\u001b[0m \u001b[32m━━━━━━━━━━━━━━━━━━━━\u001b[0m\u001b[37m\u001b[0m \u001b[1m41s\u001b[0m 91ms/step - accuracy: 0.5280 - loss: 1.8143 - val_accuracy: 0.3929 - val_loss: 2.1530 - learning_rate: 0.0010\n",
            "Epoch 18/100\n",
            "\u001b[1m285/285\u001b[0m \u001b[32m━━━━━━━━━━━━━━━━━━━━\u001b[0m\u001b[37m\u001b[0m \u001b[1m41s\u001b[0m 90ms/step - accuracy: 0.5443 - loss: 1.7717 - val_accuracy: 0.3982 - val_loss: 2.2628 - learning_rate: 0.0010\n",
            "Epoch 19/100\n",
            "\u001b[1m285/285\u001b[0m \u001b[32m━━━━━━━━━━━━━━━━━━━━\u001b[0m\u001b[37m\u001b[0m \u001b[1m41s\u001b[0m 90ms/step - accuracy: 0.5470 - loss: 1.7814 - val_accuracy: 0.3725 - val_loss: 2.2594 - learning_rate: 0.0010\n",
            "Epoch 20/100\n",
            "\u001b[1m285/285\u001b[0m \u001b[32m━━━━━━━━━━━━━━━━━━━━\u001b[0m\u001b[37m\u001b[0m \u001b[1m41s\u001b[0m 90ms/step - accuracy: 0.5475 - loss: 1.7748 - val_accuracy: 0.4133 - val_loss: 2.1976 - learning_rate: 0.0010\n",
            "Epoch 21/100\n",
            "\u001b[1m285/285\u001b[0m \u001b[32m━━━━━━━━━━━━━━━━━━━━\u001b[0m\u001b[37m\u001b[0m \u001b[1m41s\u001b[0m 90ms/step - accuracy: 0.5628 - loss: 1.7427 - val_accuracy: 0.3198 - val_loss: 2.3793 - learning_rate: 0.0010\n",
            "Epoch 22/100\n",
            "\u001b[1m285/285\u001b[0m \u001b[32m━━━━━━━━━━━━━━━━━━━━\u001b[0m\u001b[37m\u001b[0m \u001b[1m26s\u001b[0m 90ms/step - accuracy: 0.5672 - loss: 1.7571 - val_accuracy: 0.3544 - val_loss: 2.3802 - learning_rate: 0.0010\n",
            "Epoch 23/100\n",
            "\u001b[1m285/285\u001b[0m \u001b[32m━━━━━━━━━━━━━━━━━━━━\u001b[0m\u001b[37m\u001b[0m \u001b[1m41s\u001b[0m 89ms/step - accuracy: 0.5645 - loss: 1.7414 - val_accuracy: 0.4570 - val_loss: 2.0044 - learning_rate: 0.0010\n",
            "Epoch 24/100\n",
            "\u001b[1m285/285\u001b[0m \u001b[32m━━━━━━━━━━━━━━━━━━━━\u001b[0m\u001b[37m\u001b[0m \u001b[1m26s\u001b[0m 91ms/step - accuracy: 0.5821 - loss: 1.7126 - val_accuracy: 0.4593 - val_loss: 2.0087 - learning_rate: 0.0010\n",
            "Epoch 25/100\n",
            "\u001b[1m285/285\u001b[0m \u001b[32m━━━━━━━━━━━━━━━━━━━━\u001b[0m\u001b[37m\u001b[0m \u001b[1m40s\u001b[0m 89ms/step - accuracy: 0.5803 - loss: 1.7092 - val_accuracy: 0.4095 - val_loss: 2.2486 - learning_rate: 0.0010\n",
            "Epoch 26/100\n",
            "\u001b[1m284/285\u001b[0m \u001b[32m━━━━━━━━━━━━━━━━━━━\u001b[0m\u001b[37m━\u001b[0m \u001b[1m0s\u001b[0m 87ms/step - accuracy: 0.5874 - loss: 1.6911\n",
            "Epoch 26: ReduceLROnPlateau reducing learning rate to 0.0005000000237487257.\n",
            "\u001b[1m285/285\u001b[0m \u001b[32m━━━━━━━━━━━━━━━━━━━━\u001b[0m\u001b[37m\u001b[0m \u001b[1m41s\u001b[0m 91ms/step - accuracy: 0.5874 - loss: 1.6912 - val_accuracy: 0.4329 - val_loss: 2.0951 - learning_rate: 0.0010\n",
            "Epoch 27/100\n",
            "\u001b[1m285/285\u001b[0m \u001b[32m━━━━━━━━━━━━━━━━━━━━\u001b[0m\u001b[37m\u001b[0m \u001b[1m41s\u001b[0m 90ms/step - accuracy: 0.6168 - loss: 1.6094 - val_accuracy: 0.4849 - val_loss: 2.0112 - learning_rate: 5.0000e-04\n",
            "Epoch 28/100\n",
            "\u001b[1m285/285\u001b[0m \u001b[32m━━━━━━━━━━━━━━━━━━━━\u001b[0m\u001b[37m\u001b[0m \u001b[1m41s\u001b[0m 91ms/step - accuracy: 0.6389 - loss: 1.5773 - val_accuracy: 0.5038 - val_loss: 1.8846 - learning_rate: 5.0000e-04\n",
            "Epoch 29/100\n",
            "\u001b[1m285/285\u001b[0m \u001b[32m━━━━━━━━━━━━━━━━━━━━\u001b[0m\u001b[37m\u001b[0m \u001b[1m41s\u001b[0m 90ms/step - accuracy: 0.6403 - loss: 1.5495 - val_accuracy: 0.5287 - val_loss: 1.8512 - learning_rate: 5.0000e-04\n",
            "Epoch 30/100\n",
            "\u001b[1m285/285\u001b[0m \u001b[32m━━━━━━━━━━━━━━━━━━━━\u001b[0m\u001b[37m\u001b[0m \u001b[1m41s\u001b[0m 90ms/step - accuracy: 0.6563 - loss: 1.5344 - val_accuracy: 0.4947 - val_loss: 1.9629 - learning_rate: 5.0000e-04\n",
            "Epoch 31/100\n",
            "\u001b[1m285/285\u001b[0m \u001b[32m━━━━━━━━━━━━━━━━━━━━\u001b[0m\u001b[37m\u001b[0m \u001b[1m41s\u001b[0m 90ms/step - accuracy: 0.6707 - loss: 1.5052 - val_accuracy: 0.4668 - val_loss: 2.0356 - learning_rate: 5.0000e-04\n",
            "Epoch 32/100\n",
            "\u001b[1m285/285\u001b[0m \u001b[32m━━━━━━━━━━━━━━━━━━━━\u001b[0m\u001b[37m\u001b[0m \u001b[1m26s\u001b[0m 91ms/step - accuracy: 0.6708 - loss: 1.4919 - val_accuracy: 0.5294 - val_loss: 1.9129 - learning_rate: 5.0000e-04\n",
            "Epoch 33/100\n",
            "\u001b[1m285/285\u001b[0m \u001b[32m━━━━━━━━━━━━━━━━━━━━\u001b[0m\u001b[37m\u001b[0m \u001b[1m41s\u001b[0m 89ms/step - accuracy: 0.6628 - loss: 1.5061 - val_accuracy: 0.4698 - val_loss: 2.1208 - learning_rate: 5.0000e-04\n",
            "Epoch 34/100\n",
            "\u001b[1m285/285\u001b[0m \u001b[32m━━━━━━━━━━━━━━━━━━━━\u001b[0m\u001b[37m\u001b[0m \u001b[1m41s\u001b[0m 91ms/step - accuracy: 0.6797 - loss: 1.4649 - val_accuracy: 0.4879 - val_loss: 1.9931 - learning_rate: 5.0000e-04\n",
            "Epoch 35/100\n",
            "\u001b[1m285/285\u001b[0m \u001b[32m━━━━━━━━━━━━━━━━━━━━\u001b[0m\u001b[37m\u001b[0m \u001b[1m26s\u001b[0m 90ms/step - accuracy: 0.6841 - loss: 1.4650 - val_accuracy: 0.5045 - val_loss: 2.0597 - learning_rate: 5.0000e-04\n",
            "Epoch 36/100\n",
            "\u001b[1m285/285\u001b[0m \u001b[32m━━━━━━━━━━━━━━━━━━━━\u001b[0m\u001b[37m\u001b[0m \u001b[1m41s\u001b[0m 89ms/step - accuracy: 0.6931 - loss: 1.4376 - val_accuracy: 0.3725 - val_loss: 2.6023 - learning_rate: 5.0000e-04\n",
            "Epoch 37/100\n",
            "\u001b[1m285/285\u001b[0m \u001b[32m━━━━━━━━━━━━━━━━━━━━\u001b[0m\u001b[37m\u001b[0m \u001b[1m41s\u001b[0m 91ms/step - accuracy: 0.6901 - loss: 1.4540 - val_accuracy: 0.4615 - val_loss: 2.1544 - learning_rate: 5.0000e-04\n",
            "Epoch 38/100\n",
            "\u001b[1m285/285\u001b[0m \u001b[32m━━━━━━━━━━━━━━━━━━━━\u001b[0m\u001b[37m\u001b[0m \u001b[1m40s\u001b[0m 90ms/step - accuracy: 0.7027 - loss: 1.4195 - val_accuracy: 0.4548 - val_loss: 2.1500 - learning_rate: 5.0000e-04\n",
            "Epoch 39/100\n",
            "\u001b[1m284/285\u001b[0m \u001b[32m━━━━━━━━━━━━━━━━━━━\u001b[0m\u001b[37m━\u001b[0m \u001b[1m0s\u001b[0m 86ms/step - accuracy: 0.7068 - loss: 1.4146\n",
            "Epoch 39: ReduceLROnPlateau reducing learning rate to 0.0002500000118743628.\n",
            "\u001b[1m285/285\u001b[0m \u001b[32m━━━━━━━━━━━━━━━━━━━━\u001b[0m\u001b[37m\u001b[0m \u001b[1m41s\u001b[0m 90ms/step - accuracy: 0.7067 - loss: 1.4146 - val_accuracy: 0.5211 - val_loss: 1.9843 - learning_rate: 5.0000e-04\n",
            "Epoch 40/100\n",
            "\u001b[1m285/285\u001b[0m \u001b[32m━━━━━━━━━━━━━━━━━━━━\u001b[0m\u001b[37m\u001b[0m \u001b[1m41s\u001b[0m 91ms/step - accuracy: 0.7425 - loss: 1.3287 - val_accuracy: 0.6116 - val_loss: 1.6715 - learning_rate: 2.5000e-04\n",
            "Epoch 41/100\n",
            "\u001b[1m285/285\u001b[0m \u001b[32m━━━━━━━━━━━━━━━━━━━━\u001b[0m\u001b[37m\u001b[0m \u001b[1m41s\u001b[0m 90ms/step - accuracy: 0.7590 - loss: 1.3138 - val_accuracy: 0.5965 - val_loss: 1.7465 - learning_rate: 2.5000e-04\n",
            "Epoch 42/100\n",
            "\u001b[1m285/285\u001b[0m \u001b[32m━━━━━━━━━━━━━━━━━━━━\u001b[0m\u001b[37m\u001b[0m \u001b[1m41s\u001b[0m 91ms/step - accuracy: 0.7586 - loss: 1.2939 - val_accuracy: 0.5603 - val_loss: 1.8854 - learning_rate: 2.5000e-04\n",
            "Epoch 43/100\n",
            "\u001b[1m285/285\u001b[0m \u001b[32m━━━━━━━━━━━━━━━━━━━━\u001b[0m\u001b[37m\u001b[0m \u001b[1m41s\u001b[0m 90ms/step - accuracy: 0.7925 - loss: 1.2460 - val_accuracy: 0.5830 - val_loss: 1.7330 - learning_rate: 2.5000e-04\n",
            "Epoch 44/100\n",
            "\u001b[1m285/285\u001b[0m \u001b[32m━━━━━━━━━━━━━━━━━━━━\u001b[0m\u001b[37m\u001b[0m \u001b[1m26s\u001b[0m 90ms/step - accuracy: 0.7808 - loss: 1.2598 - val_accuracy: 0.5928 - val_loss: 1.7398 - learning_rate: 2.5000e-04\n",
            "Epoch 45/100\n",
            "\u001b[1m285/285\u001b[0m \u001b[32m━━━━━━━━━━━━━━━━━━━━\u001b[0m\u001b[37m\u001b[0m \u001b[1m26s\u001b[0m 90ms/step - accuracy: 0.7890 - loss: 1.2300 - val_accuracy: 0.5030 - val_loss: 2.1928 - learning_rate: 2.5000e-04\n",
            "Epoch 46/100\n",
            "\u001b[1m285/285\u001b[0m \u001b[32m━━━━━━━━━━━━━━━━━━━━\u001b[0m\u001b[37m\u001b[0m \u001b[1m41s\u001b[0m 90ms/step - accuracy: 0.7921 - loss: 1.2285 - val_accuracy: 0.5407 - val_loss: 1.9793 - learning_rate: 2.5000e-04\n",
            "Epoch 47/100\n",
            "\u001b[1m285/285\u001b[0m \u001b[32m━━━━━━━━━━━━━━━━━━━━\u001b[0m\u001b[37m\u001b[0m \u001b[1m26s\u001b[0m 91ms/step - accuracy: 0.8006 - loss: 1.2108 - val_accuracy: 0.6094 - val_loss: 1.6863 - learning_rate: 2.5000e-04\n",
            "Epoch 48/100\n",
            "\u001b[1m285/285\u001b[0m \u001b[32m━━━━━━━━━━━━━━━━━━━━\u001b[0m\u001b[37m\u001b[0m \u001b[1m41s\u001b[0m 90ms/step - accuracy: 0.8036 - loss: 1.2013 - val_accuracy: 0.5166 - val_loss: 2.0812 - learning_rate: 2.5000e-04\n",
            "Epoch 49/100\n",
            "\u001b[1m285/285\u001b[0m \u001b[32m━━━━━━━━━━━━━━━━━━━━\u001b[0m\u001b[37m\u001b[0m \u001b[1m41s\u001b[0m 91ms/step - accuracy: 0.8064 - loss: 1.1857 - val_accuracy: 0.5460 - val_loss: 1.9536 - learning_rate: 2.5000e-04\n",
            "Epoch 50/100\n",
            "\u001b[1m284/285\u001b[0m \u001b[32m━━━━━━━━━━━━━━━━━━━\u001b[0m\u001b[37m━\u001b[0m \u001b[1m0s\u001b[0m 86ms/step - accuracy: 0.8174 - loss: 1.1686\n",
            "Epoch 50: ReduceLROnPlateau reducing learning rate to 0.0001250000059371814.\n",
            "\u001b[1m285/285\u001b[0m \u001b[32m━━━━━━━━━━━━━━━━━━━━\u001b[0m\u001b[37m\u001b[0m \u001b[1m41s\u001b[0m 90ms/step - accuracy: 0.8174 - loss: 1.1686 - val_accuracy: 0.5686 - val_loss: 1.8715 - learning_rate: 2.5000e-04\n",
            "Epoch 51/100\n",
            "\u001b[1m285/285\u001b[0m \u001b[32m━━━━━━━━━━━━━━━━━━━━\u001b[0m\u001b[37m\u001b[0m \u001b[1m41s\u001b[0m 90ms/step - accuracy: 0.8468 - loss: 1.1250 - val_accuracy: 0.6320 - val_loss: 1.6664 - learning_rate: 1.2500e-04\n",
            "Epoch 52/100\n",
            "\u001b[1m285/285\u001b[0m \u001b[32m━━━━━━━━━━━━━━━━━━━━\u001b[0m\u001b[37m\u001b[0m \u001b[1m26s\u001b[0m 90ms/step - accuracy: 0.8473 - loss: 1.1051 - val_accuracy: 0.6176 - val_loss: 1.6757 - learning_rate: 1.2500e-04\n",
            "Epoch 53/100\n",
            "\u001b[1m285/285\u001b[0m \u001b[32m━━━━━━━━━━━━━━━━━━━━\u001b[0m\u001b[37m\u001b[0m \u001b[1m41s\u001b[0m 90ms/step - accuracy: 0.8607 - loss: 1.0917 - val_accuracy: 0.5935 - val_loss: 1.7537 - learning_rate: 1.2500e-04\n",
            "Epoch 54/100\n",
            "\u001b[1m285/285\u001b[0m \u001b[32m━━━━━━━━━━━━━━━━━━━━\u001b[0m\u001b[37m\u001b[0m \u001b[1m41s\u001b[0m 91ms/step - accuracy: 0.8613 - loss: 1.0719 - val_accuracy: 0.6109 - val_loss: 1.7619 - learning_rate: 1.2500e-04\n",
            "Epoch 55/100\n",
            "\u001b[1m285/285\u001b[0m \u001b[32m━━━━━━━━━━━━━━━━━━━━\u001b[0m\u001b[37m\u001b[0m \u001b[1m41s\u001b[0m 90ms/step - accuracy: 0.8659 - loss: 1.0702 - val_accuracy: 0.5528 - val_loss: 1.8883 - learning_rate: 1.2500e-04\n",
            "Epoch 56/100\n",
            "\u001b[1m285/285\u001b[0m \u001b[32m━━━━━━━━━━━━━━━━━━━━\u001b[0m\u001b[37m\u001b[0m \u001b[1m41s\u001b[0m 91ms/step - accuracy: 0.8665 - loss: 1.0695 - val_accuracy: 0.6244 - val_loss: 1.6326 - learning_rate: 1.2500e-04\n",
            "Epoch 57/100\n",
            "\u001b[1m285/285\u001b[0m \u001b[32m━━━━━━━━━━━━━━━━━━━━\u001b[0m\u001b[37m\u001b[0m \u001b[1m41s\u001b[0m 91ms/step - accuracy: 0.8802 - loss: 1.0494 - val_accuracy: 0.5943 - val_loss: 1.7626 - learning_rate: 1.2500e-04\n",
            "Epoch 58/100\n",
            "\u001b[1m285/285\u001b[0m \u001b[32m━━━━━━━━━━━━━━━━━━━━\u001b[0m\u001b[37m\u001b[0m \u001b[1m41s\u001b[0m 90ms/step - accuracy: 0.8795 - loss: 1.0458 - val_accuracy: 0.6297 - val_loss: 1.6962 - learning_rate: 1.2500e-04\n",
            "Epoch 59/100\n",
            "\u001b[1m285/285\u001b[0m \u001b[32m━━━━━━━━━━━━━━━━━━━━\u001b[0m\u001b[37m\u001b[0m \u001b[1m41s\u001b[0m 91ms/step - accuracy: 0.8851 - loss: 1.0307 - val_accuracy: 0.6282 - val_loss: 1.7742 - learning_rate: 1.2500e-04\n",
            "Epoch 60/100\n",
            "\u001b[1m285/285\u001b[0m \u001b[32m━━━━━━━━━━━━━━━━━━━━\u001b[0m\u001b[37m\u001b[0m \u001b[1m41s\u001b[0m 90ms/step - accuracy: 0.8925 - loss: 1.0181 - val_accuracy: 0.6154 - val_loss: 1.7836 - learning_rate: 1.2500e-04\n",
            "Epoch 61/100\n",
            "\u001b[1m285/285\u001b[0m \u001b[32m━━━━━━━━━━━━━━━━━━━━\u001b[0m\u001b[37m\u001b[0m \u001b[1m41s\u001b[0m 91ms/step - accuracy: 0.8855 - loss: 1.0217 - val_accuracy: 0.6229 - val_loss: 1.7413 - learning_rate: 1.2500e-04\n",
            "Epoch 62/100\n",
            "\u001b[1m285/285\u001b[0m \u001b[32m━━━━━━━━━━━━━━━━━━━━\u001b[0m\u001b[37m\u001b[0m \u001b[1m41s\u001b[0m 91ms/step - accuracy: 0.8906 - loss: 1.0227 - val_accuracy: 0.5935 - val_loss: 1.8756 - learning_rate: 1.2500e-04\n",
            "Epoch 63/100\n",
            "\u001b[1m285/285\u001b[0m \u001b[32m━━━━━━━━━━━━━━━━━━━━\u001b[0m\u001b[37m\u001b[0m \u001b[1m26s\u001b[0m 91ms/step - accuracy: 0.9019 - loss: 0.9979 - val_accuracy: 0.5897 - val_loss: 1.8239 - learning_rate: 1.2500e-04\n",
            "Epoch 64/100\n",
            "\u001b[1m285/285\u001b[0m \u001b[32m━━━━━━━━━━━━━━━━━━━━\u001b[0m\u001b[37m\u001b[0m \u001b[1m41s\u001b[0m 90ms/step - accuracy: 0.8898 - loss: 1.0205 - val_accuracy: 0.6305 - val_loss: 1.7102 - learning_rate: 1.2500e-04\n",
            "Epoch 65/100\n",
            "\u001b[1m285/285\u001b[0m \u001b[32m━━━━━━━━━━━━━━━━━━━━\u001b[0m\u001b[37m\u001b[0m \u001b[1m41s\u001b[0m 91ms/step - accuracy: 0.9112 - loss: 0.9876 - val_accuracy: 0.6109 - val_loss: 1.7820 - learning_rate: 1.2500e-04\n",
            "Epoch 66/100\n",
            "\u001b[1m284/285\u001b[0m \u001b[32m━━━━━━━━━━━━━━━━━━━\u001b[0m\u001b[37m━\u001b[0m \u001b[1m0s\u001b[0m 86ms/step - accuracy: 0.8972 - loss: 0.9956\n",
            "Epoch 66: ReduceLROnPlateau reducing learning rate to 6.25000029685907e-05.\n",
            "\u001b[1m285/285\u001b[0m \u001b[32m━━━━━━━━━━━━━━━━━━━━\u001b[0m\u001b[37m\u001b[0m \u001b[1m26s\u001b[0m 90ms/step - accuracy: 0.8972 - loss: 0.9956 - val_accuracy: 0.5551 - val_loss: 2.1713 - learning_rate: 1.2500e-04\n",
            "Epoch 67/100\n",
            "\u001b[1m285/285\u001b[0m \u001b[32m━━━━━━━━━━━━━━━━━━━━\u001b[0m\u001b[37m\u001b[0m \u001b[1m41s\u001b[0m 90ms/step - accuracy: 0.9132 - loss: 0.9687 - val_accuracy: 0.6373 - val_loss: 1.6528 - learning_rate: 6.2500e-05\n",
            "Epoch 68/100\n",
            "\u001b[1m285/285\u001b[0m \u001b[32m━━━━━━━━━━━━━━━━━━━━\u001b[0m\u001b[37m\u001b[0m \u001b[1m41s\u001b[0m 91ms/step - accuracy: 0.9232 - loss: 0.9521 - val_accuracy: 0.6440 - val_loss: 1.6759 - learning_rate: 6.2500e-05\n",
            "Epoch 69/100\n",
            "\u001b[1m285/285\u001b[0m \u001b[32m━━━━━━━━━━━━━━━━━━━━\u001b[0m\u001b[37m\u001b[0m \u001b[1m41s\u001b[0m 90ms/step - accuracy: 0.9315 - loss: 0.9457 - val_accuracy: 0.6471 - val_loss: 1.6591 - learning_rate: 6.2500e-05\n",
            "Epoch 70/100\n",
            "\u001b[1m285/285\u001b[0m \u001b[32m━━━━━━━━━━━━━━━━━━━━\u001b[0m\u001b[37m\u001b[0m \u001b[1m41s\u001b[0m 91ms/step - accuracy: 0.9232 - loss: 0.9476 - val_accuracy: 0.6161 - val_loss: 1.7247 - learning_rate: 6.2500e-05\n",
            "Epoch 71/100\n",
            "\u001b[1m285/285\u001b[0m \u001b[32m━━━━━━━━━━━━━━━━━━━━\u001b[0m\u001b[37m\u001b[0m \u001b[1m41s\u001b[0m 90ms/step - accuracy: 0.9341 - loss: 0.9306 - val_accuracy: 0.6440 - val_loss: 1.6566 - learning_rate: 6.2500e-05\n",
            "Epoch 72/100\n",
            "\u001b[1m285/285\u001b[0m \u001b[32m━━━━━━━━━━━━━━━━━━━━\u001b[0m\u001b[37m\u001b[0m \u001b[1m41s\u001b[0m 91ms/step - accuracy: 0.9345 - loss: 0.9345 - val_accuracy: 0.6365 - val_loss: 1.7095 - learning_rate: 6.2500e-05\n",
            "Epoch 73/100\n",
            "\u001b[1m285/285\u001b[0m \u001b[32m━━━━━━━━━━━━━━━━━━━━\u001b[0m\u001b[37m\u001b[0m \u001b[1m41s\u001b[0m 91ms/step - accuracy: 0.9340 - loss: 0.9284 - val_accuracy: 0.6380 - val_loss: 1.7005 - learning_rate: 6.2500e-05\n",
            "Epoch 74/100\n",
            "\u001b[1m285/285\u001b[0m \u001b[32m━━━━━━━━━━━━━━━━━━━━\u001b[0m\u001b[37m\u001b[0m \u001b[1m26s\u001b[0m 90ms/step - accuracy: 0.9366 - loss: 0.9270 - val_accuracy: 0.6433 - val_loss: 1.6663 - learning_rate: 6.2500e-05\n",
            "Epoch 75/100\n",
            "\u001b[1m285/285\u001b[0m \u001b[32m━━━━━━━━━━━━━━━━━━━━\u001b[0m\u001b[37m\u001b[0m \u001b[1m41s\u001b[0m 90ms/step - accuracy: 0.9393 - loss: 0.9253 - val_accuracy: 0.6501 - val_loss: 1.6843 - learning_rate: 6.2500e-05\n",
            "Epoch 76/100\n",
            "\u001b[1m284/285\u001b[0m \u001b[32m━━━━━━━━━━━━━━━━━━━\u001b[0m\u001b[37m━\u001b[0m \u001b[1m0s\u001b[0m 87ms/step - accuracy: 0.9360 - loss: 0.9150\n",
            "Epoch 76: ReduceLROnPlateau reducing learning rate to 3.125000148429535e-05.\n",
            "\u001b[1m285/285\u001b[0m \u001b[32m━━━━━━━━━━━━━━━━━━━━\u001b[0m\u001b[37m\u001b[0m \u001b[1m41s\u001b[0m 91ms/step - accuracy: 0.9360 - loss: 0.9151 - val_accuracy: 0.6267 - val_loss: 1.7094 - learning_rate: 6.2500e-05\n",
            "Epoch 76: early stopping\n",
            "Restoring model weights from the end of the best epoch: 56.\n"
          ]
        }
      ]
    },
    {
      "cell_type": "markdown",
      "source": [
        "## Model Evaluation"
      ],
      "metadata": {
        "id": "0-Qkz2THc1lg"
      }
    },
    {
      "cell_type": "code",
      "source": [
        "def plot_history(history):\n",
        "  fig, (ax1, ax2) = plt.subplots(2, figsize=(12, 12))\n",
        "  ax1.plot(history.history['accuracy'])\n",
        "  ax1.plot(history.history['val_accuracy'])\n",
        "  ax1.set_title('model accuracy')\n",
        "  ax1.set_ylabel('accuracy')\n",
        "  ax1.set_xlabel('epoch')\n",
        "  ax1.legend(['train', 'validation'], loc='upper left')\n",
        "  ax2.plot(history.history['loss'])\n",
        "  ax2.plot(history.history['val_loss'])\n",
        "  ax2.set_title('model loss')\n",
        "  ax2.set_ylabel('loss')\n",
        "  ax2.set_xlabel('epoch')"
      ],
      "metadata": {
        "id": "Ml02STOcc2kt"
      },
      "execution_count": 70,
      "outputs": []
    },
    {
      "cell_type": "code",
      "source": [
        "# Plot Loss Graphs\n",
        "plot_history(history)"
      ],
      "metadata": {
        "colab": {
          "base_uri": "https://localhost:8080/",
          "height": 997
        },
        "id": "XAjg6UNT31iK",
        "outputId": "4986e7ff-0500-40e9-810d-08cc6fc8633e"
      },
      "execution_count": 71,
      "outputs": [
        {
          "output_type": "display_data",
          "data": {
            "text/plain": [
              "<Figure size 1200x1200 with 2 Axes>"
            ],
            "image/png": "[encoded data removed]"
          },
          "metadata": {}
        }
      ]
    },
    {
      "cell_type": "code",
      "source": [
        "model.evaluate(X_test, y_test_encoded)"
      ],
      "metadata": {
        "colab": {
          "base_uri": "https://localhost:8080/"
        },
        "id": "7Pfy6v_9NF5F",
        "outputId": "1c5ccf5c-1347-4464-d1b1-e59be5c3433c"
      },
      "execution_count": 72,
      "outputs": [
        {
          "output_type": "stream",
          "name": "stdout",
          "text": [
            "\u001b[1m81/81\u001b[0m \u001b[32m━━━━━━━━━━━━━━━━━━━━\u001b[0m\u001b[37m\u001b[0m \u001b[1m2s\u001b[0m 27ms/step - accuracy: 0.6467 - loss: 1.6043\n"
          ]
        },
        {
          "output_type": "execute_result",
          "data": {
            "text/plain": [
              "[1.6057415008544922, 0.6499611735343933]"
            ]
          },
          "metadata": {},
          "execution_count": 72
        }
      ]
    },
    {
      "cell_type": "code",
      "source": [
        "# Print Classification Report. Print which number represents which art style\n",
        "from sklearn.metrics import classification_report\n",
        "y_pred = model.predict(X_test)\n",
        "y_pred_classes = np.argmax(y_pred, axis=1)\n",
        "print(classification_report(y_test_classes, y_pred_classes, target_names=styles))"
      ],
      "metadata": {
        "colab": {
          "base_uri": "https://localhost:8080/"
        },
        "id": "DBOo-PzdNIfv",
        "outputId": "aba0b5f0-667b-476d-aef1-724389322558"
      },
      "execution_count": 73,
      "outputs": [
        {
          "output_type": "stream",
          "name": "stdout",
          "text": [
            "\u001b[1m81/81\u001b[0m \u001b[32m━━━━━━━━━━━━━━━━━━━━\u001b[0m\u001b[37m\u001b[0m \u001b[1m3s\u001b[0m 34ms/step\n",
            "                  precision    recall  f1-score   support\n",
            "\n",
            "     Primitivism       0.79      0.77      0.78       200\n",
            "     Art_Nouveau       0.78      0.74      0.76       192\n",
            "         Realism       0.54      0.43      0.48       207\n",
            "   Neoclassicism       0.73      0.78      0.76       194\n",
            "         Baroque       0.47      0.68      0.56       205\n",
            "    Japanese_Art       0.82      0.82      0.82       224\n",
            "    Academic_Art       0.68      0.56      0.61       183\n",
            "     Renaissance       0.64      0.55      0.59       195\n",
            "          Rococo       0.69      0.64      0.66       208\n",
            "   Expressionism       0.81      0.57      0.67       197\n",
            "     Romanticism       0.43      0.60      0.50       188\n",
            "       Symbolism       0.44      0.50      0.47       173\n",
            "Western Medieval       0.83      0.76      0.80       208\n",
            "\n",
            "        accuracy                           0.65      2574\n",
            "       macro avg       0.66      0.65      0.65      2574\n",
            "    weighted avg       0.67      0.65      0.65      2574\n",
            "\n"
          ]
        }
      ]
    },
    {
      "cell_type": "code",
      "source": [],
      "metadata": {
        "id": "ZMNan_JKlRdt"
      },
      "execution_count": null,
      "outputs": []
    }
  ]
}