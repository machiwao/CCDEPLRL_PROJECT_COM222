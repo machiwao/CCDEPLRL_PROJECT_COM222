{
  "cells": [
    {
      "cell_type": "markdown",
      "metadata": {
        "colab_type": "text",
        "id": "view-in-github"
      },
      "source": [
        "<a href=\"https://colab.research.google.com/github/machiwao/CCDEPLRL_PROJECT_COM222/blob/main/CCDEPLRL_PROJECT_COM222_Project_Implementation.ipynb\" target=\"_parent\"><img src=\"https://colab.research.google.com/assets/colab-badge.svg\" alt=\"Open In Colab\"/></a>"
      ]
    },
    {
      "cell_type": "markdown",
      "metadata": {
        "id": "kuvgqeBAYVhd"
      },
      "source": [
        "# ArtDecode: An Explainable Deep Learning-Based Mobile Application for Multi-Style Artistic Image Classification and Visual Feature Interpretation"
      ]
    },
    {
      "cell_type": "code",
      "execution_count": 2,
      "metadata": {
        "id": "0pF1xCqXWORo"
      },
      "outputs": [],
      "source": [
        "import numpy as np\n",
        "import os\n",
        "import numpy as np\n",
        "import tensorflow as tf\n",
        "from tensorflow.keras.utils import to_categorical\n",
        "from tensorflow.keras import layers, models\n",
        "from tensorflow.keras.preprocessing import image\n",
        "from sklearn.model_selection import train_test_split\n",
        "from tensorflow.keras.callbacks import EarlyStopping, ReduceLROnPlateau\n",
        "from PIL import Image  # PIL is used to load the image\n",
        "import matplotlib.pyplot as plt\n",
        "import cv2\n",
        "from tensorflow.keras.regularizers import l2"
      ]
    },
    {
      "cell_type": "code",
      "execution_count": 3,
      "metadata": {},
      "outputs": [
        {
          "name": "stdout",
          "output_type": "stream",
          "text": [
            "[name: \"/device:CPU:0\"\n",
            "device_type: \"CPU\"\n",
            "memory_limit: 268435456\n",
            "locality {\n",
            "}\n",
            "incarnation: 16331842238658196218\n",
            "xla_global_id: -1\n",
            ", name: \"/device:GPU:0\"\n",
            "device_type: \"GPU\"\n",
            "memory_limit: 13896777728\n",
            "locality {\n",
            "  bus_id: 1\n",
            "  links {\n",
            "  }\n",
            "}\n",
            "incarnation: 18283725137384424744\n",
            "physical_device_desc: \"device: 0, name: NVIDIA GeForce RTX 5070 Ti, pci bus id: 0000:01:00.0, compute capability: 12.0\"\n",
            "xla_global_id: 416903419\n",
            "]\n",
            "[PhysicalDevice(name='/physical_device:GPU:0', device_type='GPU')]\n"
          ]
        }
      ],
      "source": [
        "from tensorflow.python.client import device_lib\n",
        "print(device_lib.list_local_devices())\n",
        "\n",
        "print(tf.config.list_physical_devices('GPU'))"
      ]
    },
    {
      "cell_type": "markdown",
      "metadata": {
        "id": "h00ztueYaBUW"
      },
      "source": [
        "## Data Loading"
      ]
    },
    {
      "cell_type": "markdown",
      "metadata": {
        "id": "brk5TtLiMXsK"
      },
      "source": [
        "Load images and respective labels"
      ]
    },
    {
      "cell_type": "code",
      "execution_count": 4,
      "metadata": {
        "id": "X3-3LGWeaZ9_"
      },
      "outputs": [],
      "source": [
        "base_dir = r\"C:\\Users\\Blix\\Downloads\\Data\""
      ]
    },
    {
      "cell_type": "code",
      "execution_count": 5,
      "metadata": {
        "colab": {
          "base_uri": "https://localhost:8080/"
        },
        "id": "5hSeqFiPcUnf",
        "outputId": "36a0e906-77c3-4a50-f2bf-a75ce598cdf6"
      },
      "outputs": [
        {
          "name": "stdout",
          "output_type": "stream",
          "text": [
            "['Art_Nouveau_Modern', 'Baroque', 'Color_Field_Painting', 'Cubism', 'Expressionism', 'Fauvism', 'Impressionism', 'Minimalism', 'Naive_Art_Primitivism', 'Pop_Art', 'Realism', 'Renaissance', 'Rococo', 'Romanticism', 'Symbolism', 'Ukiyo_e']\n"
          ]
        }
      ],
      "source": [
        "styles = os.listdir(base_dir)\n",
        "print(styles) # Print the list of styles to verify"
      ]
    },
    {
      "cell_type": "code",
      "execution_count": 6,
      "metadata": {},
      "outputs": [],
      "source": [
        "image_height = 128\n",
        "image_width = 128\n",
        "batch_size = 32"
      ]
    },
    {
      "cell_type": "code",
      "execution_count": 7,
      "metadata": {},
      "outputs": [],
      "source": [
        "images = []\n",
        "labels = []\n",
        "for style in styles:\n",
        "    style_dir = os.path.join(base_dir, style)\n",
        "    for image_name in os.listdir(style_dir):\n",
        "        image_path = os.path.join(style_dir, image_name)\n",
        "        try:\n",
        "            img = Image.open(image_path).convert('RGB') # Load image and convert to RGB\n",
        "            img = img.resize((image_height, image_width)) # Resize images to a consistent size\n",
        "            img_array = np.array(img)\n",
        "            images.append(img_array)\n",
        "            labels.append(style) # Use the style name as the label\n",
        "        except Exception as e:\n",
        "            print(f\"Error loading image {image_path}: {e}\")"
      ]
    },
    {
      "cell_type": "code",
      "execution_count": 8,
      "metadata": {
        "colab": {
          "base_uri": "https://localhost:8080/"
        },
        "id": "f327oDK7ceRH",
        "outputId": "d07a4bb4-17e4-49a3-9912-35c7512e995a"
      },
      "outputs": [],
      "source": [
        "# Convert lists to numpy arrays\n",
        "images = np.array(images)"
      ]
    },
    {
      "cell_type": "markdown",
      "metadata": {
        "id": "2J3VVLRYc5s4"
      },
      "source": [
        "## Data Split"
      ]
    },
    {
      "cell_type": "code",
      "execution_count": 9,
      "metadata": {
        "id": "XENrLiZ0c65K"
      },
      "outputs": [],
      "source": [
        "# Train-Validation-Test Split is 70-15-15\n",
        "X_train, X_temp, y_train, y_temp = train_test_split(images, labels, test_size=0.3, random_state=42)\n",
        "X_val, X_test, y_val, y_test = train_test_split(X_temp, y_temp, test_size=0.5, random_state=42)"
      ]
    },
    {
      "cell_type": "code",
      "execution_count": 10,
      "metadata": {
        "colab": {
          "base_uri": "https://localhost:8080/"
        },
        "id": "R6k4CdYJh25Y",
        "outputId": "fbef1ac4-0d06-46ad-f90c-86c999c8158d"
      },
      "outputs": [
        {
          "name": "stdout",
          "output_type": "stream",
          "text": [
            "Counts of each style in y_train:\n",
            "Art_Nouveau_Modern: 3018\n",
            "Baroque: 2992\n",
            "Color_Field_Painting: 1115\n",
            "Cubism: 1809\n",
            "Expressionism: 6782\n",
            "Fauvism: 683\n",
            "Impressionism: 13914\n",
            "Minimalism: 930\n",
            "Naive_Art_Primitivism: 1696\n",
            "Pop_Art: 1036\n",
            "Realism: 8077\n",
            "Renaissance: 4593\n",
            "Rococo: 1464\n",
            "Romanticism: 4915\n",
            "Symbolism: 3152\n",
            "Ukiyo_e: 811\n"
          ]
        }
      ],
      "source": [
        "# Convert y_train to a NumPy array to use NumPy functions\n",
        "y_train_np = np.array(y_train)\n",
        "\n",
        "# Get unique values and their counts\n",
        "unique_elements, counts = np.unique(y_train_np, return_counts=True)\n",
        "\n",
        "# Print the counts\n",
        "print(\"Counts of each style in y_train:\")\n",
        "for element, count in zip(unique_elements, counts):\n",
        "    print(f\"{element}: {count}\")"
      ]
    },
    {
      "cell_type": "code",
      "execution_count": 11,
      "metadata": {
        "colab": {
          "base_uri": "https://localhost:8080/"
        },
        "id": "8T-yMlFViDQi",
        "outputId": "c579f820-c8de-45ed-cd0e-bf14bb12870f"
      },
      "outputs": [
        {
          "name": "stdout",
          "output_type": "stream",
          "text": [
            "Counts of each style in y_val:\n",
            "Art_Nouveau_Modern: 673\n",
            "Baroque: 620\n",
            "Color_Field_Painting: 243\n",
            "Cubism: 376\n",
            "Expressionism: 1435\n",
            "Fauvism: 122\n",
            "Impressionism: 3038\n",
            "Minimalism: 201\n",
            "Naive_Art_Primitivism: 344\n",
            "Pop_Art: 226\n",
            "Realism: 1761\n",
            "Renaissance: 948\n",
            "Rococo: 311\n",
            "Romanticism: 1074\n",
            "Symbolism: 676\n",
            "Ukiyo_e: 163\n"
          ]
        }
      ],
      "source": [
        "# Convert y_val to a NumPy array to use NumPy functions\n",
        "y_val_np = np.array(y_val)\n",
        "\n",
        "# Get unique values and their counts\n",
        "unique_elements, counts = np.unique(y_val_np, return_counts=True)\n",
        "\n",
        "# Print the counts\n",
        "print(\"Counts of each style in y_val:\")\n",
        "for element, count in zip(unique_elements, counts):\n",
        "    print(f\"{element}: {count}\")"
      ]
    },
    {
      "cell_type": "code",
      "execution_count": 12,
      "metadata": {
        "id": "u5pyyURYi06z"
      },
      "outputs": [],
      "source": [
        "label_to_index = {style: i for i, style in enumerate(styles)}\n",
        "y_train_encoded = to_categorical([label_to_index[label] for label in y_train], num_classes=len(styles))\n",
        "y_val_encoded = to_categorical([label_to_index[label] for label in y_val], num_classes=len(styles))\n",
        "y_test_encoded = to_categorical([label_to_index[label] for label in y_test], num_classes=len(styles))\n",
        "\n",
        "# Normalize the image data after splitting\n",
        "X_train = X_train.astype('float32') / 255.0\n",
        "X_val = X_val.astype('float32') / 255.0\n",
        "X_test = X_test.astype('float32') / 255.0"
      ]
    },
    {
      "cell_type": "code",
      "execution_count": 21,
      "metadata": {},
      "outputs": [],
      "source": [
        "from tensorflow.keras.utils import to_categorical, Sequence"
      ]
    },
    {
      "cell_type": "code",
      "execution_count": 22,
      "metadata": {},
      "outputs": [],
      "source": [
        "class DataGenerator(Sequence):\n",
        "    def __init__(self, x_set, y_set, batch_size):\n",
        "        self.x, self.y = x_set, y_set\n",
        "        self.batch_size = batch_size\n",
        "\n",
        "    def __len__(self):\n",
        "        return int(np.ceil(len(self.x) / float(self.batch_size)))\n",
        "\n",
        "    def __getitem__(self, idx):\n",
        "        # Ensure that batch_x maintains its original shape or is adjusted as needed for your model\n",
        "        batch_x = self.x[idx * self.batch_size:(idx + 1) * self.batch_size]\n",
        "        batch_y = self.y[idx * self.batch_size:(idx + 1) * self.batch_size]\n",
        "        return batch_x, batch_y"
      ]
    },
    {
      "cell_type": "code",
      "execution_count": 23,
      "metadata": {},
      "outputs": [],
      "source": [
        "train_gen = DataGenerator(X_train, y_train_encoded, batch_size)\n",
        "val_gen = DataGenerator(X_val, y_val_encoded, batch_size) # Added validation generator\n",
        "test_gen = DataGenerator(X_test, y_test_encoded, batch_size)"
      ]
    },
    {
      "cell_type": "markdown",
      "metadata": {
        "id": "418pOQ_Wcwp3"
      },
      "source": [
        "## Model Training"
      ]
    },
    {
      "cell_type": "code",
      "execution_count": 24,
      "metadata": {
        "id": "NKJTwPd_cwew"
      },
      "outputs": [],
      "source": [
        "model = tf.keras.Sequential([\n",
        "    # First block with batch normalization\n",
        "    tf.keras.layers.Conv2D(64, 3, padding='same', kernel_regularizer=l2(1e-4)),\n",
        "    tf.keras.layers.BatchNormalization(),\n",
        "    tf.keras.layers.Activation('relu'),\n",
        "    tf.keras.layers.Conv2D(64, 3, padding='same', kernel_regularizer=l2(1e-4)),\n",
        "    tf.keras.layers.BatchNormalization(),\n",
        "    tf.keras.layers.Activation('relu'),\n",
        "    tf.keras.layers.MaxPooling2D(2),\n",
        "    tf.keras.layers.Dropout(0.1),\n",
        "    \n",
        "    # Second block\n",
        "    tf.keras.layers.Conv2D(128, 3, padding='same', kernel_regularizer=l2(1e-4)),\n",
        "    tf.keras.layers.BatchNormalization(),\n",
        "    tf.keras.layers.Activation('relu'),\n",
        "    tf.keras.layers.Conv2D(128, 3, padding='same', kernel_regularizer=l2(1e-4)),\n",
        "    tf.keras.layers.BatchNormalization(),\n",
        "    tf.keras.layers.Activation('relu'),\n",
        "    tf.keras.layers.MaxPooling2D(2),\n",
        "    tf.keras.layers.Dropout(0.2),\n",
        "    \n",
        "    # Third block\n",
        "    tf.keras.layers.Conv2D(256, 3, padding='same', kernel_regularizer=l2(1e-4)),\n",
        "    tf.keras.layers.BatchNormalization(),\n",
        "    tf.keras.layers.Activation('relu'),\n",
        "    tf.keras.layers.Conv2D(256, 3, padding='same', kernel_regularizer=l2(1e-4)),\n",
        "    tf.keras.layers.BatchNormalization(),\n",
        "    tf.keras.layers.Activation('relu'),\n",
        "    tf.keras.layers.MaxPooling2D(2),\n",
        "    tf.keras.layers.Dropout(0.2),\n",
        "    \n",
        "    # Fourth block\n",
        "    tf.keras.layers.Conv2D(512, 3, padding='same', kernel_regularizer=l2(1e-4)),\n",
        "    tf.keras.layers.BatchNormalization(),\n",
        "    tf.keras.layers.Activation('relu'),\n",
        "    tf.keras.layers.GlobalAveragePooling2D(),\n",
        "    tf.keras.layers.BatchNormalization(),\n",
        "    \n",
        "    # Dense layers\n",
        "    tf.keras.layers.Dense(512, activation='relu', kernel_regularizer=l2(1e-4)),\n",
        "    tf.keras.layers.BatchNormalization(),\n",
        "    tf.keras.layers.Dropout(0.3),\n",
        "    tf.keras.layers.Dense(256, activation='relu', kernel_regularizer=l2(1e-4)),\n",
        "    tf.keras.layers.Dropout(0.3),\n",
        "    tf.keras.layers.Dense(len(styles), activation='softmax')\n",
        "])"
      ]
    },
    {
      "cell_type": "code",
      "execution_count": 25,
      "metadata": {},
      "outputs": [
        {
          "name": "stdout",
          "output_type": "stream",
          "text": [
            "Model: \"sequential_1\"\n",
            "_________________________________________________________________\n",
            " Layer (type)                Output Shape              Param #   \n",
            "=================================================================\n",
            " conv2d_7 (Conv2D)           (None, 128, 128, 64)      1792      \n",
            "                                                                 \n",
            " batch_normalization_9 (Batc  (None, 128, 128, 64)     256       \n",
            " hNormalization)                                                 \n",
            "                                                                 \n",
            " activation_7 (Activation)   (None, 128, 128, 64)      0         \n",
            "                                                                 \n",
            " conv2d_8 (Conv2D)           (None, 128, 128, 64)      36928     \n",
            "                                                                 \n",
            " batch_normalization_10 (Bat  (None, 128, 128, 64)     256       \n",
            " chNormalization)                                                \n",
            "                                                                 \n",
            " activation_8 (Activation)   (None, 128, 128, 64)      0         \n",
            "                                                                 \n",
            " max_pooling2d_3 (MaxPooling  (None, 64, 64, 64)       0         \n",
            " 2D)                                                             \n",
            "                                                                 \n",
            " dropout_5 (Dropout)         (None, 64, 64, 64)        0         \n",
            "                                                                 \n",
            " conv2d_9 (Conv2D)           (None, 64, 64, 128)       73856     \n",
            "                                                                 \n",
            " batch_normalization_11 (Bat  (None, 64, 64, 128)      512       \n",
            " chNormalization)                                                \n",
            "                                                                 \n",
            " activation_9 (Activation)   (None, 64, 64, 128)       0         \n",
            "                                                                 \n",
            " conv2d_10 (Conv2D)          (None, 64, 64, 128)       147584    \n",
            "                                                                 \n",
            " batch_normalization_12 (Bat  (None, 64, 64, 128)      512       \n",
            " chNormalization)                                                \n",
            "                                                                 \n",
            " activation_10 (Activation)  (None, 64, 64, 128)       0         \n",
            "                                                                 \n",
            " max_pooling2d_4 (MaxPooling  (None, 32, 32, 128)      0         \n",
            " 2D)                                                             \n",
            "                                                                 \n",
            " dropout_6 (Dropout)         (None, 32, 32, 128)       0         \n",
            "                                                                 \n",
            " conv2d_11 (Conv2D)          (None, 32, 32, 256)       295168    \n",
            "                                                                 \n",
            " batch_normalization_13 (Bat  (None, 32, 32, 256)      1024      \n",
            " chNormalization)                                                \n",
            "                                                                 \n",
            " activation_11 (Activation)  (None, 32, 32, 256)       0         \n",
            "                                                                 \n",
            " conv2d_12 (Conv2D)          (None, 32, 32, 256)       590080    \n",
            "                                                                 \n",
            " batch_normalization_14 (Bat  (None, 32, 32, 256)      1024      \n",
            " chNormalization)                                                \n",
            "                                                                 \n",
            " activation_12 (Activation)  (None, 32, 32, 256)       0         \n",
            "                                                                 \n",
            " max_pooling2d_5 (MaxPooling  (None, 16, 16, 256)      0         \n",
            " 2D)                                                             \n",
            "                                                                 \n",
            " dropout_7 (Dropout)         (None, 16, 16, 256)       0         \n",
            "                                                                 \n",
            " conv2d_13 (Conv2D)          (None, 16, 16, 512)       1180160   \n",
            "                                                                 \n",
            " batch_normalization_15 (Bat  (None, 16, 16, 512)      2048      \n",
            " chNormalization)                                                \n",
            "                                                                 \n",
            " activation_13 (Activation)  (None, 16, 16, 512)       0         \n",
            "                                                                 \n",
            " global_average_pooling2d_1   (None, 512)              0         \n",
            " (GlobalAveragePooling2D)                                        \n",
            "                                                                 \n",
            " batch_normalization_16 (Bat  (None, 512)              2048      \n",
            " chNormalization)                                                \n",
            "                                                                 \n",
            " dense_3 (Dense)             (None, 512)               262656    \n",
            "                                                                 \n",
            " batch_normalization_17 (Bat  (None, 512)              2048      \n",
            " chNormalization)                                                \n",
            "                                                                 \n",
            " dropout_8 (Dropout)         (None, 512)               0         \n",
            "                                                                 \n",
            " dense_4 (Dense)             (None, 256)               131328    \n",
            "                                                                 \n",
            " dropout_9 (Dropout)         (None, 256)               0         \n",
            "                                                                 \n",
            " dense_5 (Dense)             (None, 16)                4112      \n",
            "                                                                 \n",
            "=================================================================\n",
            "Total params: 2,733,392\n",
            "Trainable params: 2,728,528\n",
            "Non-trainable params: 4,864\n",
            "_________________________________________________________________\n"
          ]
        }
      ],
      "source": [
        "model.build(input_shape=(None, image_height, image_width, 3))\n",
        "model.summary()"
      ]
    },
    {
      "cell_type": "code",
      "execution_count": 26,
      "metadata": {
        "id": "g5xGO8rbd__o"
      },
      "outputs": [],
      "source": [
        "# Initialize starting learning rate\n",
        "optimizer = tf.keras.optimizers.Adam(learning_rate=1e-3)\n",
        "# Compile the model\n",
        "model.compile(\n",
        "    optimizer=optimizer,\n",
        "    loss=tf.keras.losses.CategoricalCrossentropy(from_logits=False, label_smoothing = 0.1),\n",
        "    metrics=['accuracy']\n",
        ")"
      ]
    },
    {
      "cell_type": "code",
      "execution_count": 27,
      "metadata": {
        "id": "PX9pIHEVeCRA"
      },
      "outputs": [],
      "source": [
        "early_stop = EarlyStopping(\n",
        "    monitor='val_loss',\n",
        "    patience = 20,\n",
        "    restore_best_weights=True,\n",
        "    verbose=1,\n",
        "    min_delta=0.0001,\n",
        ")"
      ]
    },
    {
      "cell_type": "code",
      "execution_count": 28,
      "metadata": {
        "id": "BNvNHShNeIbw"
      },
      "outputs": [],
      "source": [
        "reduce_lr = ReduceLROnPlateau(\n",
        "    monitor='val_loss',\n",
        "    factor=0.5,        # Reduce LR by half\n",
        "    patience=10,        # Wait 3 epochs before reducing\n",
        "    min_lr=1e-7,       # Don't go below this\n",
        "    min_delta=0.0001,\n",
        "    verbose=1\n",
        ")"
      ]
    },
    {
      "cell_type": "code",
      "execution_count": null,
      "metadata": {
        "colab": {
          "base_uri": "https://localhost:8080/"
        },
        "id": "FBqtAUT9eSfE",
        "outputId": "02ce5354-8ff9-4678-cdbd-706e4e9ba833"
      },
      "outputs": [
        {
          "name": "stdout",
          "output_type": "stream",
          "text": [
            "Epoch 1/1000\n",
            "1781/1781 [==============================] - 116s 64ms/step - loss: 2.6310 - accuracy: 0.2622 - val_loss: 2.4418 - val_accuracy: 0.3069 - lr: 0.0010\n",
            "Epoch 2/1000\n",
            "1781/1781 [==============================] - 114s 64ms/step - loss: 2.3235 - accuracy: 0.3230 - val_loss: 2.6293 - val_accuracy: 0.2188 - lr: 0.0010\n",
            "Epoch 3/1000\n",
            "1781/1781 [==============================] - 113s 64ms/step - loss: 2.2234 - accuracy: 0.3534 - val_loss: 2.2840 - val_accuracy: 0.3385 - lr: 0.0010\n",
            "Epoch 4/1000\n",
            "1781/1781 [==============================] - 115s 64ms/step - loss: 2.1830 - accuracy: 0.3712 - val_loss: 2.4736 - val_accuracy: 0.3210 - lr: 0.0010\n",
            "Epoch 5/1000\n",
            "1781/1781 [==============================] - 114s 64ms/step - loss: 2.1448 - accuracy: 0.3850 - val_loss: 2.1909 - val_accuracy: 0.3699 - lr: 0.0010\n",
            "Epoch 6/1000\n",
            "1781/1781 [==============================] - 113s 64ms/step - loss: 2.1138 - accuracy: 0.3955 - val_loss: 2.5220 - val_accuracy: 0.2191 - lr: 0.0010\n",
            "Epoch 7/1000\n",
            "1781/1781 [==============================] - 114s 64ms/step - loss: 2.0796 - accuracy: 0.4111 - val_loss: 2.4374 - val_accuracy: 0.2761 - lr: 0.0010\n",
            "Epoch 8/1000\n",
            " 532/1781 [=======>......................] - ETA: 1:14 - loss: 2.0555 - accuracy: 0.4183"
          ]
        }
      ],
      "source": [
        "# Fit the model\n",
        "history = model.fit(\n",
        "    train_gen,\n",
        "    validation_data=val_gen,  # Use the validation generator\n",
        "    epochs=1000,\n",
        "    callbacks=[early_stop, reduce_lr],\n",
        "    batch_size= batch_size\n",
        ")"
      ]
    },
    {
      "cell_type": "markdown",
      "metadata": {
        "id": "0-Qkz2THc1lg"
      },
      "source": [
        "## Model Evaluation"
      ]
    },
    {
      "cell_type": "code",
      "execution_count": 33,
      "metadata": {
        "id": "Ml02STOcc2kt"
      },
      "outputs": [],
      "source": [
        "def plot_history(history):\n",
        "  fig, (ax1, ax2) = plt.subplots(2, figsize=(12, 12))\n",
        "  ax1.plot(history.history['accuracy'])\n",
        "  ax1.plot(history.history['val_accuracy'])\n",
        "  ax1.set_title('model accuracy')\n",
        "  ax1.set_ylabel('accuracy')\n",
        "  ax1.set_xlabel('epoch')\n",
        "  ax1.legend(['train', 'validation'], loc='upper left')\n",
        "  ax2.plot(history.history['loss'])\n",
        "  ax2.plot(history.history['val_loss'])\n",
        "  ax2.set_title('model loss')\n",
        "  ax2.set_ylabel('loss')\n",
        "  ax2.set_xlabel('epoch')"
      ]
    },
    {
      "cell_type": "code",
      "execution_count": 34,
      "metadata": {
        "colab": {
          "base_uri": "https://localhost:8080/",
          "height": 997
        },
        "id": "XAjg6UNT31iK",
        "outputId": "4986e7ff-0500-40e9-810d-08cc6fc8633e"
      },
      "outputs": [
        {
          "data": {
            "image/png": "[encoded data removed]",
            "text/plain": [
              "<Figure size 1200x1200 with 2 Axes>"
            ]
          },
          "metadata": {},
          "output_type": "display_data"
        }
      ],
      "source": [
        "# Plot Loss Graphs\n",
        "plot_history(history)"
      ]
    },
    {
      "cell_type": "code",
      "execution_count": 35,
      "metadata": {
        "colab": {
          "base_uri": "https://localhost:8080/"
        },
        "id": "7Pfy6v_9NF5F",
        "outputId": "1c5ccf5c-1347-4464-d1b1-e59be5c3433c"
      },
      "outputs": [
        {
          "name": "stdout",
          "output_type": "stream",
          "text": [
            "13/13 [==============================] - 1s 60ms/step - loss: 2.4116 - accuracy: 0.4604\n"
          ]
        },
        {
          "data": {
            "text/plain": [
              "[2.411635398864746, 0.46039605140686035]"
            ]
          },
          "execution_count": 35,
          "metadata": {},
          "output_type": "execute_result"
        }
      ],
      "source": [
        "model.evaluate(X_test, y_test_encoded)"
      ]
    },
    {
      "cell_type": "code",
      "execution_count": 36,
      "metadata": {
        "colab": {
          "base_uri": "https://localhost:8080/"
        },
        "id": "DBOo-PzdNIfv",
        "outputId": "aba0b5f0-667b-476d-aef1-724389322558"
      },
      "outputs": [
        {
          "name": "stdout",
          "output_type": "stream",
          "text": [
            "13/13 [==============================] - 1s 60ms/step\n",
            "Classification Report:\n",
            "                            precision    recall  f1-score   support\n",
            "\n",
            "    Abstract Expressionism       0.43      0.30      0.35        10\n",
            "           Action Painting       0.61      0.69      0.65        16\n",
            "         Analytical Cubism       0.93      0.82      0.88        17\n",
            "        Art Nouveau Modern       0.31      0.36      0.33        14\n",
            "                   Baroque       0.80      0.64      0.71        25\n",
            "      Color Field Painting       0.56      0.69      0.62        13\n",
            "      Contemporary Realism       0.42      0.42      0.42        12\n",
            "                    Cubism       0.36      0.29      0.32        14\n",
            "         Early Renaissance       0.43      0.60      0.50        15\n",
            "             Expressionism       0.22      0.15      0.18        13\n",
            "                   Fauvism       0.42      0.44      0.43        18\n",
            "          High Renaissance       0.33      0.42      0.37        12\n",
            "             Impressionism       0.20      0.20      0.20        20\n",
            "Mannerism Late Renaissance       0.44      0.31      0.36        13\n",
            "                Minimalism       0.55      0.46      0.50        13\n",
            "     Naive Art Primitivism       0.20      0.22      0.21         9\n",
            "               New Realism       0.33      0.60      0.43        10\n",
            "      Northern Renaissance       0.45      0.26      0.33        19\n",
            "                Pointilism       0.71      0.88      0.79        17\n",
            "                   Pop Art       0.62      0.26      0.37        19\n",
            "        Post Impressionism       0.00      0.00      0.00        14\n",
            "                   Realism       0.28      0.36      0.31        14\n",
            "                    Rococo       0.47      0.44      0.45        16\n",
            "               Romanticism       0.53      0.59      0.56        17\n",
            "                 Symbolism       0.24      0.36      0.29        14\n",
            "          Synthetic Cubism       0.80      0.62      0.70        13\n",
            "                   Ukiyo-e       0.72      0.76      0.74        17\n",
            "\n",
            "                  accuracy                           0.46       404\n",
            "                 macro avg       0.46      0.45      0.44       404\n",
            "              weighted avg       0.48      0.46      0.46       404\n",
            "\n"
          ]
        }
      ],
      "source": [
        "# Print Classification Report. Print which number represents which art style\n",
        "from sklearn.metrics import classification_report\n",
        "y_pred = model.predict(X_test)\n",
        "y_pred_classes = np.argmax(y_pred, axis=1)\n",
        "y_test_classes = np.argmax(y_test_encoded, axis=1)\n",
        "y_pred_classes = [styles[i] for i in y_pred_classes]\n",
        "y_test_classes = [styles[i] for i in y_test_classes]\n",
        "print(\"Classification Report:\")\n",
        "print(classification_report(y_test_classes, y_pred_classes, target_names=styles))"
      ]
    },
    {
      "cell_type": "code",
      "execution_count": null,
      "metadata": {
        "id": "ZMNan_JKlRdt"
      },
      "outputs": [],
      "source": []
    }
  ],
  "metadata": {
    "accelerator": "GPU",
    "colab": {
      "authorship_tag": "ABX9TyO2llbUMta+FVhsiRk6GpKb",
      "gpuType": "T4",
      "include_colab_link": true,
      "provenance": []
    },
    "kernelspec": {
      "display_name": "artDecodeV2",
      "language": "python",
      "name": "python3"
    },
    "language_info": {
      "codemirror_mode": {
        "name": "ipython",
        "version": 3
      },
      "file_extension": ".py",
      "mimetype": "text/x-python",
      "name": "python",
      "nbconvert_exporter": "python",
      "pygments_lexer": "ipython3",
      "version": "3.10.18"
    }
  },
  "nbformat": 4,
  "nbformat_minor": 0
}
